{
  "nbformat": 4,
  "nbformat_minor": 0,
  "metadata": {
    "colab": {
      "name": "hollister project version 2",
      "provenance": [],
      "collapsed_sections": [],
      "authorship_tag": "ABX9TyMZmYjXCtgz7PRwHNqTGZqb",
      "include_colab_link": true
    },
    "kernelspec": {
      "name": "python3",
      "display_name": "Python 3"
    },
    "language_info": {
      "name": "python"
    }
  },
  "cells": [
    {
      "cell_type": "markdown",
      "metadata": {
        "id": "view-in-github",
        "colab_type": "text"
      },
      "source": [
        "<a href=\"https://colab.research.google.com/github/latterfate/hello-world/blob/master/hollister_project_version_2.ipynb\" target=\"_parent\"><img src=\"https://colab.research.google.com/assets/colab-badge.svg\" alt=\"Open In Colab\"/></a>"
      ]
    },
    {
      "cell_type": "code",
      "metadata": {
        "colab": {
          "base_uri": "https://localhost:8080/"
        },
        "id": "MOF-iE0nl6-L",
        "outputId": "fadceb88-3160-4aa2-ee61-33571f635d6d"
      },
      "source": [
        "from google.colab import drive\n",
        "drive.mount('/content/drive/')"
      ],
      "execution_count": 1,
      "outputs": [
        {
          "output_type": "stream",
          "name": "stdout",
          "text": [
            "Mounted at /content/drive/\n"
          ]
        }
      ]
    },
    {
      "cell_type": "code",
      "metadata": {
        "id": "pCbD4hfEmHa5"
      },
      "source": [
        "import pandas as pd\n",
        "import re\n",
        "import nltk\n",
        "from nltk.stem.porter import *\n",
        "from sklearn.feature_extraction.text import CountVectorizer, TfidfVectorizer, TfidfTransformer\n",
        "import gensim\n",
        "from gensim.models import Word2Vec\n",
        "from nltk import word_tokenize\n",
        "from sklearn.model_selection import train_test_split\n",
        "import numpy as np\n",
        "from sklearn.naive_bayes import MultinomialNB\n",
        "from sklearn.linear_model import LogisticRegression\n",
        "from sklearn.linear_model import SGDClassifier\n",
        "from sklearn.metrics import precision_recall_fscore_support\n",
        "from statistics import mean\n",
        "from numpy import array\n",
        "from numpy import asarray\n",
        "from keras.preprocessing.text import Tokenizer\n",
        "from keras.preprocessing.sequence import pad_sequences\n",
        "from numpy import zeros\n",
        "from keras.layers import Embedding\n",
        "from keras.models import Sequential\n",
        "from keras.layers import Dense\n",
        "from keras.layers import Flatten\n",
        "from keras.layers import Embedding\n",
        "from keras.layers.convolutional import Conv1D\n",
        "from keras.layers.convolutional import MaxPooling1D\n",
        "from tensorflow import keras"
      ],
      "execution_count": 2,
      "outputs": []
    },
    {
      "cell_type": "code",
      "metadata": {
        "colab": {
          "base_uri": "https://localhost:8080/"
        },
        "id": "9EUkgj3SpKio",
        "outputId": "9ab569e1-e3cf-48e4-9a39-4f32d8068cc8"
      },
      "source": [
        "nltk.download('punkt')"
      ],
      "execution_count": 3,
      "outputs": [
        {
          "output_type": "stream",
          "name": "stdout",
          "text": [
            "[nltk_data] Downloading package punkt to /root/nltk_data...\n",
            "[nltk_data]   Unzipping tokenizers/punkt.zip.\n"
          ]
        },
        {
          "output_type": "execute_result",
          "data": {
            "text/plain": [
              "True"
            ]
          },
          "metadata": {},
          "execution_count": 3
        }
      ]
    },
    {
      "cell_type": "markdown",
      "metadata": {
        "id": "u7f_auEvmJ1n"
      },
      "source": [
        "# Import data\n",
        "\n",
        "There are four features we can extract from the table below: title, lens, summary and linkref. In the first trial we will only use title and summary for text classification."
      ]
    },
    {
      "cell_type": "code",
      "metadata": {
        "colab": {
          "base_uri": "https://localhost:8080/",
          "height": 206
        },
        "id": "OdfiCgsnmOv3",
        "outputId": "7e120869-09dc-4e76-e52f-2d6989a3e8b5"
      },
      "source": [
        "df = pd.read_excel('drive/MyDrive/Hollister Confidential-Futurism 2021 - DeDuplication Tool v01c (1).xlsx', sheet_name='Clues')\n",
        "df.head()"
      ],
      "execution_count": 4,
      "outputs": [
        {
          "output_type": "execute_result",
          "data": {
            "text/html": [
              "<div>\n",
              "<style scoped>\n",
              "    .dataframe tbody tr th:only-of-type {\n",
              "        vertical-align: middle;\n",
              "    }\n",
              "\n",
              "    .dataframe tbody tr th {\n",
              "        vertical-align: top;\n",
              "    }\n",
              "\n",
              "    .dataframe thead th {\n",
              "        text-align: right;\n",
              "    }\n",
              "</style>\n",
              "<table border=\"1\" class=\"dataframe\">\n",
              "  <thead>\n",
              "    <tr style=\"text-align: right;\">\n",
              "      <th></th>\n",
              "      <th>id</th>\n",
              "      <th>title</th>\n",
              "      <th>Lens</th>\n",
              "      <th>summaryplaintext</th>\n",
              "      <th>linkRef</th>\n",
              "    </tr>\n",
              "  </thead>\n",
              "  <tbody>\n",
              "    <tr>\n",
              "      <th>0</th>\n",
              "      <td>2772</td>\n",
              "      <td>CC project for futurism started</td>\n",
              "      <td>Political</td>\n",
              "      <td>Futurism gaining interest within the organizat...</td>\n",
              "      <td>Reference:&amp;nbsp;check FEI records</td>\n",
              "    </tr>\n",
              "    <tr>\n",
              "      <th>1</th>\n",
              "      <td>2773</td>\n",
              "      <td>DELETE ME Great eagerness tp participate  from...</td>\n",
              "      <td>Societal</td>\n",
              "      <td>opt-in participation is not meant to stress pe...</td>\n",
              "      <td>NaN</td>\n",
              "    </tr>\n",
              "    <tr>\n",
              "      <th>2</th>\n",
              "      <td>2774</td>\n",
              "      <td>this is what I heard the customer say, \"La di ...</td>\n",
              "      <td>Environmental</td>\n",
              "      <td>I think they meant that ehy wanted something t...</td>\n",
              "      <td>&lt;div&gt;hyperlink 1&lt;/div&gt;&lt;div&gt;'KEEP THIS AREA BRI...</td>\n",
              "    </tr>\n",
              "    <tr>\n",
              "      <th>3</th>\n",
              "      <td>2789</td>\n",
              "      <td>Reducitarian Kateman: \"Technological innovatio...</td>\n",
              "      <td>Economical</td>\n",
              "      <td>There is growing awareness that sustainability...</td>\n",
              "      <td>&lt;p&gt;&lt;a href=\"https://www.fastcompany.com/905995...</td>\n",
              "    </tr>\n",
              "    <tr>\n",
              "      <th>4</th>\n",
              "      <td>2790</td>\n",
              "      <td>Medical Futurist Meskó broadly covers wearable...</td>\n",
              "      <td>Social</td>\n",
              "      <td>Message is that healthcare is still trying to ...</td>\n",
              "      <td>&lt;div&gt;1. https://open.spotify.com/episode/4OtPk...</td>\n",
              "    </tr>\n",
              "  </tbody>\n",
              "</table>\n",
              "</div>"
            ],
            "text/plain": [
              "     id  ...                                            linkRef\n",
              "0  2772  ...                  Reference:&nbsp;check FEI records\n",
              "1  2773  ...                                                NaN\n",
              "2  2774  ...  <div>hyperlink 1</div><div>'KEEP THIS AREA BRI...\n",
              "3  2789  ...  <p><a href=\"https://www.fastcompany.com/905995...\n",
              "4  2790  ...  <div>1. https://open.spotify.com/episode/4OtPk...\n",
              "\n",
              "[5 rows x 5 columns]"
            ]
          },
          "metadata": {},
          "execution_count": 4
        }
      ]
    },
    {
      "cell_type": "markdown",
      "metadata": {
        "id": "MhQw6bf4m80m"
      },
      "source": [
        "# Preprocess title + summary text"
      ]
    },
    {
      "cell_type": "code",
      "metadata": {
        "id": "RnOs87WGnDMn"
      },
      "source": [
        "# Concat title and summary plain text\n",
        "df['full_text'] = df['title'] + ' ' + df['summaryplaintext']"
      ],
      "execution_count": 5,
      "outputs": []
    },
    {
      "cell_type": "markdown",
      "metadata": {
        "id": "EHkqc3gOnBj4"
      },
      "source": [
        "### remove non algebra characters"
      ]
    },
    {
      "cell_type": "code",
      "metadata": {
        "id": "RgDWSw3vnVlL"
      },
      "source": [
        "# Convert to lowercase\n",
        "full_text_ls = [df['full_text'][i].lower() for i in range(len(df['full_text']))]\n",
        "\n",
        "# Remove numbers / punctuation / special characters\n",
        "full_text_ls = [re.sub('[^A-Za-z]+', ' ', i) for i in full_text_ls]\n",
        "\n",
        "# Strip white space\n",
        "full_text_ls = [i.strip() for i in full_text_ls]"
      ],
      "execution_count": 6,
      "outputs": []
    },
    {
      "cell_type": "markdown",
      "metadata": {
        "id": "rHoqy-N8qRPU"
      },
      "source": [
        "### conduct stemming"
      ]
    },
    {
      "cell_type": "code",
      "metadata": {
        "colab": {
          "base_uri": "https://localhost:8080/"
        },
        "id": "pbvC3aQgovit",
        "outputId": "1ccc9ba9-74aa-4edb-d75f-ea39e3d7d1e8"
      },
      "source": [
        "stemmer = PorterStemmer()\n",
        "stemmed_text = []\n",
        "for string in full_text_ls:\n",
        "  new_string = ' '.join(stemmer.stem(token) for token in nltk.word_tokenize(string))\n",
        "  stemmed_text.append(new_string)\n",
        "\n",
        "print(stemmed_text)\n"
      ],
      "execution_count": 7,
      "outputs": [
        {
          "output_type": "stream",
          "name": "stdout",
          "text": [
            "['cc project for futur start futur gain interest within the organ delet thi clue after test', 'delet me great eager tp particip from respond opt in particip is not meant to stress peopl out but rather integr into their work the selef select mental lead to inprov qualiti of output', 'thi is what i heard the custom say la di da di i think they meant that ehi want someth thinnner not necessarili shorter', 'reducitarian kateman technolog innov ha a role to play in advanc moral progress but so do ethic argument there is grow awar that sustain and climat chang will not be address without the buy in of corpor strategi', 'medic futurist mesk broadli cover wearabl microbiom and ai in recent podcast messag is that healthcar is still tri to figur out what to do with the insight provid by the tidal wave of data that is readili avail to patient consum believ that a cultur transform in healthcar is need befor wearabl data becom usabl', 'darpa award m in contract to alter microbiom to repel mosquito govern back new use case for microbiom modul long last bacteria base repel is the goal of project aim to protect u s soldier from malaria', 'medic futurist mesk broadli cover wearabl microbiom and ai in recent podcast the interview includ a discuss of data privaci where mesk provid hi perspect of give up privaci in return for individu healthcar gain interest that these are gain base on hypothet long term outcom so far which may affect thi calcul for some patient', 'medic futurist mesk broadli cover wearabl microbiom and ai in recent podcast mesk believ that the patient will increasingli be part of the medic team for anoth exampl of thi trend see stanford medicinex which activ recruit patient as member of the innov team interest perspect when ask about the futur of medicin he describ the desir of a cohort of empow patient their top desir deliver from healthcar are empathi attent and time note that there is no mention of how ai diagnost technolog reimburs the space where most medtech innov spend their most of their time', 'real time ai system hold a ball in balanc on a plate an exampl of the rapid speed at which ai can respond interven a webcam film the system and a python program analyz the imag to find the posit of the ball the python program calcul the tilt of the tray to prevent the ball from fall', 'alarmist minut report provid a good summari of biodata privaci issu offer for chines support of the washington state fight against covid with sequenc support present as an attempt biodata hack the chines govern may have stolen person data from of american adult accord to a minut report', 'venturebeat articl on respons use of ai to creat a better health system ai is onli as good as the data provid histor patient data can reflect histor inequ that left uncheck may disadvantag some popul also uncertainti cloud the model s output is a direct result of how machin learn algorithm ingest data and form their own connect to creat infer', 'test test', 'tik tok influenc skin care tiktok user have been promot hydrocolloid dress to treat acn as a new social media giant which hold a great deal of influenc on the gen z popul tiktok ha the potenti to start affect how we treat our health the hydrocolloid acn treatment video went so viral it prompt a dermatologist to come out and debunk misconcept that wrap your whole face in hydrocolloid bandag might not be the best idea whether or not tiktok video are the best method to get medic inform thi articl show how pervas social media platform have becom in our live they might even becom a new avenu for dispens inform on medic and treatment option', 'develop fibril cellulos as a sustain technolog materi natur articl abstract cellulos is the most abund biopolym on earth found in tree wast from agricultur crop and other biomass the fibr that compris cellulos can be broken down into build block known as fibril cellulos of vari control dimens that extend to the nanoscal the use of fibril cellulos in the fabric of materi rang from composit and macrofibr to thin film porou membran and gel is explor we discuss research direct for the practic exploit of these structur and the remain challeng to overcom befor fibril cellulos materi can reach their full potenti final we highlight some key issu toward success manufactur scale up of thi famili of materi http www natur com articl s', 'mit develop lab grown wood as a sourc of biodegrad cellulos mit research are develop method to grow cellulos from the zinnia plant without soil or sunlight when extend to other plant speci thi develop could lead to bespok cellulos scaffold for biodegrad materi which could be tune for the need of non recycl singl use medic product the articl includ a great statement by the research describ a japanes startup that is make wooden satellit ani product should realli contempl how it s go to go back to the earth', 'engin live materi elm made from microb can respond to stimuli from their surround environ research from imperi colleg london and mit combin the bacteria from kombucha that produc cellulos with brewer s yeast to creat a dual cellular scaffold that they hope could be use to creat therapeut or even live biosensor the research were abl to engin the yeast accord to the need of their system for exampl to produc enzym that fluoresc or that broke down target molecul the system for genet engin baker s yeast are well establish and fast mean that new strain with particular desir characterist can be creat quickli the simpl growth condit requir by the kombucha style cultur also mean that ani new combin can quickli be establish and bulk up readi for use both of these featur make thi a favor elm system', 'second golden era of antibiot in episod number of thi week in microbiolog twim they discuss how dirt is not a simpl construct but what wa realli interest wa how there is thi boom possibl second golden era of antibiot loom over us as we dig deeper polyketid some speci of bacteria releas beta lactamas in order to surviv and combat anitmicrobi clavulan acid can actual act as a beta lactamas inhibitor and be help when mix with certain antimicrobi i found thi particularli interest and could quit possibl be someth to think about in the realm of coat hydrat medium', 'mushroom base packag or ic raw materi mushroom base technolog is anticip to creat up to a trillion usd circular economi by by provid solut to packag dispos healthcar product and other industri build materi meat substitut etc while initi develop as an environment altern to plastic and inorgan wast thi emerg technolog may also have a consider econom societ and technolog impact across divers industri includ medic devic', 'lehigh rheologist mimic ph environ of gi tract to shed light on pharmaceut potenti of coval adapt hydrogel gel especi hydrogel is a veri activ topic in materi scienc due to advanc in character and synthet techniqu to make control well defin materi here the work involv the breakdown of a gel in the stomach with an activ drug molecul the gel is abl to reform to encapsul the drug molecul thu preserv the integr of the activ ingredi much longer the idea here could be appli to cathet coat or materi we may need to interfac intern with the bodi that doe not have the best integr due to mechan wear but is abl to heal or reform itself to maintain the physic properti of interest for the custom', 'k beauti trend to tri in accord to expert the korean beauti market continu to churn out differ activ ingredi in skin care health a lot of the focu is on wholist or natur product that can improv skin health although we might not want to use the ingredi of snail mucin or bee venom we can pay attent to the fundament principl of whi these ingredi or addit may or may not work import here is that these beauti product can be experiment lab incub to test how the market respond to new addit toward materi develop for skin health these idea could be translat over to cc or skin health in term of addit and there mechan of action to enhanc the product line', 'digit light d print of custom bioresorb airway stent with elastomer properti thi studi give an exampl of resin develop for addit manufactur of medic devic custom bioresorb airway stent produc by d print are under develop howev biocompat and biodegrad materi for d print of elast medic implant are still lack thi studi describ dual polym photoink for digit light d print of custom and bioresorb airway stent these stent exhibit tunabl elastomer properti with suitabl biodegrad in vivo studi in healthi rabbit confirm biocompat and show that the stent stay in place for week after which they becam radiograph invis thi work open promis perspect for the rapid manufactur of the custom medic devic for which high precis elast and degrad are sought', 'patient name and colonoscopi result hack and post onlin legal implic to how hollist use person bio data and health app cyberattack on hospit and cco are increasingli common doubl in the second half of thi hack wa strang cybercrimin typic don t post inform publicli it s more common for them to lock comput system until the facil pay a ransom clue speak to need for consider of these threat by develop of digit health approach could also encourag the use of outsourc data hous by org such as googl or aw to pass the buck two major attack target us health care facil in the fall howev', 'biodegrad nonwoven sanitari pad a new compani planera ha made the first ever flushabl biodegrad sanitari pad it is made of three part the top sheet core and bottom sheet which is call the upflow barrier tm the top sheet is made of cellulos fiber to make the pad soft on the skin the wood pulp core help maintain absorpt and the bottom sheet absorb ani sweat dure use the upflow barrier tm technolog work by absorb and lock in fluid from the top but when submerg in larg amount of fluid when it is flush in the toilet the hydraul action rip the pad apart thi is a veri excit develop consid the billion of singl use hygien product that are dump in landfil each year', 'destruct of mucu thi episod of twim ep talk about the mucu bust effect of nitric oxid in patient with lung infect the lung infect in thi episod are brought on by biofilm format of psuedomona aeruginosa and how the mucu in the lung help facilit that infect nitric oxid can kill microb and break up mucu my thought could the mucu in the urinari tract actual caus more harm than good in patient with neurogen bladder nitric oxid is found in the bladder sometim dure infect bodi respons to help fight infect', 'biolac r pure plant base clean wipe suominen a finnish nonwoven hygien product compani ha creat a clean wipe made from cellulos fiber to meet the rise concern of global environment concern and marin plastic these wipe are biodegrad and compost and are plan to be launch commerci thi year', 'attack adhesin there ha been some research go on in the realm of attack the adhes properti of microorgan in fact here at hollist we have been research way to do so as well i found thi recent paper that talk about anti adhes and go after the adhesin that allow certain microorgan to attach to certain surfac ie cathet fimh is an adhesin that s produc by upec uropathogen eschericia coli sever fimh inhibitor have been made ligand drug discoveri carbohydr base drug can block fimh glycomimet think d mannos d mannos ha been use befor in uti prevent d mannos act as a receptor for fimh to attach to d mannos is easili deriv from plant less harsh side effect possibl add to hydrat medium or coat', 'otc migrat of urinari therapi usfda gave otc approv for a ten electrostimul devic shown to reduc involuntari urinari leakag seem to be posit to postpartum incontin the technolog in the devic is not novel but the over the counter approv is which seem to build on mount frustrat at least among us patient with rise deduct premium for the same level of coverag dtc cash payment allow for faster access no md appt rx to be fill etc thi trend could creat a divid in med devic access but may also allow access to med devic for those who had no insur to begin with', 'scientist push to develop a noah s ark for the microbiom similar to the seed vault so what a drive to collat inform relat to the microbiom provid evid that peopl understand the import of captur knowledg relat to the microbiom to preserv societi', 'propos to build microbiom vault similar to seed vault so what belief that preserv and categor inform relat to the microbiom will have valu toward human preserv', 'fda lay groundwork for oversight of ai enabl devic so what if the fda is under consider of regul ai enabl or machin learn devic provid more support that big data collect and analysi will be part of concept for develop medic product or servic patient need', 'forget blood your skin might know if you are sick a new microneedl skin patch take advantag of the interstiti fluid right beneath the layer of the outermost skin to look for biomark that indic seriou condit like tuberculosi and cancer a recent paper publish in natur biomed engin from research at washington univers in st loui show thi new dispos microneedl patch can captur key biomark in the interstiti fluid with time more sensit compar to other biomark test thi technolog will be extrem use in low and middl incom countri becaus it doe not requir train medic staff to administ or refriger of sampl collect it could also have larg implic on the at home diagnost sector head research prausnitz and singamaneni forese that these microneedl patch could be use at home by anyon to track biomark for chronic condit', 'intrins hydrophob antibacteri thin film from renew resourc applic in the develop of anti biofilm urinari cathet the use of renew resourc to develop function materi is increas in order to meet the sustain challeng in an era of inexor evolut of antimicrobi resist there is a substanti increas in demand for the develop of effici antimicrobi thin film coat from renew resourc for public bacteri threat food biomed and industri applic in the present investig we have use cardanol a phenol compound have unsatur hydrophob tail isol from cashew fruit and linse oil a veget oil and an import biobas build block which are cheap and easi to regener thi studi report the synthesi of cardanol base metal complex have unsatur hydrophob unit and acryl epoxidis linse oil aelo prepar via epoxid of doubl bond follow by acryl the doubl bond present in the metal complex and aelo is prone to form assembl thin film under atmospher condit without the need of ani initi assembl thin film is one of the import aspect of nanotechnolog hold a wide rang of applic h nmr and ft ir analysi reveal the exist of a strong interact between ligand and metal which pave a way to develop a non leachabl metal base thin film coat the leach behaviour of thin film coat wa investig under variou aggress condit with the aid of uv vi spectroscopi the mechan properti of assembl thin film coat materi compos of cardanol base metal complex and aelo are describ use oscillatori rheolog morpholog and saxd analysi clearli reveal the format of the assembl structur in thin film thermal respons of these materi ha been investig use tga and dsc measur intrins hydrophob charact wa identifi by contact angl measur antimicrobi and biofilm inhibitori behaviour of synthes compound and thin film were investig against variou human pathogen bacteri strain the assembl thin film coat cathet tube complet inhibit the biofilm format of uropathogen escherichia coli upec thu the develop thin film coat materi hold promis to be use as metal enabl non leachabl coat materi for public bacteri threat and food and biomed applic in particular thi materi can be potenti use for develop urinari cathet tube with antibacteri properti', 'biocompat and total disintegr semiconduct polym for ultrathin and ultralightweight transient electron increas perform demand and shorter use lifetim of consum electron have result in the rapid growth of electron wast current consum electron are typic made with non decompos non biocompat and sometim even toxic materi lead to seriou ecolog challeng worldwid here an exampl of total disintegr and biocompat semiconduct polym for thin film transistor is report the polym consist of revers imin bond and build block that can be easili decompos under mild acid condit in addit an ultrathin nm biodegrad cellulos substrat with high chemic and thermal stabil is develop coupl with iron electrod we have success fabric fulli disintegr and biocompat polym transistor furthermor disintegr and biocompat pseudo complementari metal oxid semiconductor cmo flexibl circuit are demonstr these flexibl circuit are ultrathin m and ultralightweight g m with low oper voltag v yield potenti applic of these disintegr semiconduct polym in low cost biocompat and ultralightweight transient electron thi work significantli advanc organ materi to enabl environment friendli and biointegr electron applic', 'seawe munch microb produc sustain bioplast plastic wast is a major problem in the world s ocean which is whi some group have develop bioplast that break down in the sea howev thi isn t entir eco friendli which is whi isra scientist are work on bioplast that are deriv from marin microorgan instead of petroleum biodegrad plastic are typic made from plant matter or bacteri by product unfortun in order to grow the plant or provid a medium for the bacteria fertil soil and fresh water are requir not onli are these not plenti in all part of the world but they could also otherwis be use to grow food crop with that in mind research from tel aviv univers look to ulva lactuca alga aka sea lettuc thi wa cultiv in the ocean and then fed to singl cell microorgan known as haloferax mediterranei those organ proceed to excret a bioplast polym call polyhydroxyalkano pha it can in turn be use to produc plastic which are complet biodegrad and produc no toxic wast', 'plant base plastic biodegrad in the ocean osaka univers ha develop an altern type of transpar plastic consist mainli of cellulos nanofib and starch both of which were obtain from plant accord to the research thi biodegrad plastic avoid certain drawback of other such plastic such as inferior qualiti to convent plastic high product cost and manufactur in small quantiti thank to a proprietari product process the finish product is claim to exhibit excel water resist and high strength while also be veri biodegrad when left float in seawat over time and as an ad bonu becaus the plastic isn t petroleum base it product shouldn t produc ani greenhous gase', 'metallis packag film cf crisp packet made of a new materi could be much easier to recycl crisp packag isn t accept by household recycl scheme as the metallis film use for the packet are hard to recycl as they are made from sever layer of plastic and metal fuse togeth propos altern is a veri thin layer call a nanosheet made from amino acid and water appli to a film of plastic polyethylen terephthal or pet which most plastic water bottl are made of propos by o hare and hi team the benign build block of amino acid and water appear to make a materi safe for use with food howev there will be a long regulatori process and the public shouldn t expect to see the materi in packag for at least four year part of the challeng in design the materi wa meet industri demand for a good barrier to gase to avoid contamin and keep the product fresh to make the nanosheet effect o hare s team creat a tortuou pathway a sort of maze at a nano level that make it hard for oxygen and other gase to diffus through as an oxygen barrier it appear to perform around time better than metallis film and the materi also fare well in the industri s crumpl test which involv flex and twist it the film also ha the big advantag of be monomateri packag in other word onli have one materi the pet which can be wide recycl', 'd print as an effect tool for anti infect dialysi cathet fabric cathet associ infect are a common complic that occur in dialysi patient current strategi to prevent infect includ cathet coat contain heparin pyrogallol or silver nanoparticl which all have an increas risk of caus resist in bacteria therefor a novel approach for manufactur such as the use of addit manufactur am also known as three dimension d print is requir filament were produc by extrus use thermoplast polyurethan tpu and tetracyclin hydrochlorid tc in variou concentr e g and the extrud filament were use in a fuse deposit model fdm d printer to print cathet construct at vari concentr releas studi in phosphat buffer salin microbiolog studi thermal analysi contact angl attenu total reflect fourier transform infrar scan electron microscopi and x ray microcomput tomographi ct analysi were conduct on the print cathet the result suggest that tc wa uniformli distribut within the tpu matrix the microbiolog test of the cathet show that devic contain tc had an inhibitori effect on the growth of staphylococcu aureu nctc bacteria cathet contain tc maintain inhibitori effect after day releas studi after an initi burst releas in the first h there wa a steadi releas of tc in all concentr of cathet d print antibiot cathet were success print with inhibitori effect on s aureu bacteria final tc contain cathet show resist to s aureu adher to their surfac when compar with cathet contain no tc cathet contain of tc show a bacteri adher reduct of up to accordingli the incorpor of tc to tpu materi can be effect use to prepar anti infect cathet use fdm thi studi highlight the potenti for drug impregn medic devic to be creat through d print', 'charg switchabl polymer coat kill bacteria and prevent biofilm format in vivo prevent bacteri biofilm format on medic devic and implant in vivo still remain a daunt task current antibacteri coat to combat implant associ infect are gener compos of toxic metal or non degrad polym and involv multistep surfac modif here we present a charg switchabl antibacteri and antibiofilm coat base on water insolubl cation hydrophob polym that are solubl in organ solvent and can be non coval coat onto differ surfac toward thi a librari of quaternari polyethylenimin qpei polym with an amid or ester group in their pendant alkyl chain wa develop these qpei are shown to hydrolys from activ cation to nontox zwitterion polym under acid or enzymat condit notabl polym with both zwitterion and cation group obtain upon partial hydrolysi of qpei are shown to retain their antibacteri activ with much lower toxic toward mammalian cell furthermor the zwitterion polym a fulli hydrolys product of the qpei is shown to be nontox to mammalian cell in vitro as well as in vivo the qpei when coat onto surfac kill bacteria and prevent format of biofilm in an in vivo mice model the qpei coat medic grade cathet is shown to reduc methicillin resist staphylococcu aureu contamin both on the cathet surfac and in the adjac tissu reduct compar to a non coat cathet addit biofilm format is inhibit on the cathet surfac with neglig inflamm in the adjac tissu the abov result thu highlight the import of these polym to be use as effect antibacteri coat in biomed applic', 'univers scientist help creat world first antimicrobi medic glove a new type of medic glove ha been develop that kill microb without the use of ad chemic the glove were develop over the cours of six year by univers of nottingham and utilis a proprietari technolog which the univers describ as a new activ microorgan kill molecul thi molecul is incorpor right into the materi mean that no antibiot have to be appli to the surfac of the glove nor do ani leach out into the environ in lab test the glove reportedli kill up to percent of bacteria within five minut of contact it is hope that these antimicrobi glove will reduc the amount of healthcar associ infect in patient', 'superhydrophob coat for urinari cathet to delay bacteri biofilm format and cathet associ urinari tract infect in thi research a multilay superhydrophob coat for urinari cathet wa synthesis by a layer by layer deposit techniqu a mussel inspir polydopamin coat wa utilis as a platform for the in situ anchor of silver nanoparticl follow by hydrophob modif with h h h h perfluorodecanethiol benefit from the synergist effect of hierarch micro nanostructur and antibacteri silver nanoparticl the prepar cathet exhibit excel superhydrophob and prolong antibacteri activ against escherichia coli wt f and proteu mirabili wt f compar with commerci all silicon and silver alloy hydrogel cathet the superhydrophob cathet exhibit signific antibiofilm activ in both static and dynam model in an in vitro bladder model bacteri migrat along the outer cathet wa effect delay reduc biomass accumul by up to and compar with all silicon and silver alloy hydrogel cathet encrust in the cathet lumen were also retard extend the lifetim of silicon cathet from to h the superhydrophob cathet also exhibit good biocompat to the l mous fibroblast therefor provid a promis direct for the futur design of urinari cathet', 'new d print devic could help treat spinal cord injuri a bioengin spinal cord is fabric via extrus base multimateri d bioprint in which cluster of induc pluripot stem cell ipsc deriv spinal neuron progenitor cell snpc and oligodendrocyt progenitor cell opc are place in precis posit within d print biocompat scaffold dure assembl the locat of a cluster of cell of a singl type or multipl type is control use a point dispens print method with a m center to center space within m wide channel the bioprint snpc differenti and extend axon throughout microscal scaffold channel and the activ of these neuron network is confirm by physiolog spontan calcium flux studi success bioprint of opc in combin with snpc demonstr a multicellular neural tissu engin approach where the abil to direct the pattern and combin of transplant neuron and glial cell can be benefici in rebuild function axon connect across area of central nervou system cn tissu damag thi platform can be use to prepar novel biomimet hydrogel base scaffold model complex cn tissu architectur in vitro and har to develop new clinic approach to treat neurolog diseas includ spinal cord injuri', 'water wipe contain onli two ingredi water and a drop of fruit extract similar to urinari cathet babi wipe are an item that are in regular contact with a sensit area water wipe contain water and contain a drop of fruit extract natur ingredi so that they are still safe to use on delic newborn babi skin while special formul hydrat solut give us superior lubric dri out perform while meet all of the biocompat requir could the user of the futur perceiv a water onli hydrat as be their first choic', 'covid could bring welcom relief to ireland s burgeon medic devic industri as the coronaviru continu to spread throughout europ and govern take increasingli sever measur to minimis it impact through the restrict of movement and gather of peopl we look at how the medic devic industri and the regulatori framework which surround it may get an unexpect lucki break as a result of the rapid spread of the viru across the eu', 'health canada provid covid interim order approv for bactiguard s tempsensor cathet health canada ha approv bactiguard s urinari cathet with temperatur sensor for infect prevent through an interim order the approv is driven by covid as bactiguard s cathet can reduc the risk of secondari infect for critic ill patient', 'audia elastom offer recycl content tpe resin audia elastom ha announc the launch of it audiaflex famili of thermoplast elastom tpe which it call one of the industri s first tpe portfolio that meet the sustain need of brand owner and consum the new audiaflex portfolio includ what audia call customiz grade that are produc from postconsum postindustri and marin base scrap and other made with bio base sourc', 'volymi smart cathet bag alert help user go with confid trip to the toilet are someth most peopl take for grant but for those depend on a urinari cathet bag the process is more complic there is constant anxieti about how full the bag is and it is thi problem that the founder of volymi are aim to solv with their smart cathet bag alert system volymi is primarili aim at cathet bag user with limit mobil it monitor the amount of urin in the bag and let the user know when it need attent mani cathet user are paralys and use a wheelchair thi mean they can not check the full of their bag without help if their carer is not around to do thi for them they worri that the bag is get too full if it overfil they are at risk of stroke or sever infect', 'smart cathet system a new bladder control manag solut the intelliflow cathet is fulli intern to the male anatomi the cathet tip incorpor a magnet valv pump which open and close via remot control and enabl the bladder to fill natur the cathet enabl user to empti their bladder comfort and conveni without frequent catheter or extern bag attach to the bodi to collect urin it maintain it posit with the help of anchor featur no balloon need', 'digit health in plastic surgeri and cosmet the person skin care industri is grow thank to ai and advanc imag technolog in shiseido releas the optun smart skincar devic the iot devic connect to an app on the phone which use ai technolog to analyz photo of the user skin base on data like sleep pattern locat base environment data and sleep data the result of analysi are then sent to the optun machin which produc the optim skincar product that fit with the user s current skin condit', 'amazon is disrupt the healthcar industri amazon care amazon is disrupt the healthcar industri in multipl way as an onlin pharmaci by sell medic product and as a digit enabl of of healthcar amazon launch a virtual primari care clinic call amazon care the latest sign of the giant retail s grow ambit in healthcar amazon care includ video and text visit with clinician as well as in home care the program is describ as a new benefit for employe of the compani and is a pilot project in the seattl area amazon ha been expand in healthcar and separ partner with jpmorgan and berkshir hathaway on an effort to improv care for their worker call haven in june amazon acquir the onlin pharmaci pillpack for million with it disrupt network and smart technolog they could be a major disruptor', 'gillett partner with terracycl for circular person care wast solut gillett recent launch the planet kind sustain shave care product line includ skincar product made without paraben sl sulfat dye recycl plastic handl recycl paper packag and a partnership with terracycl to becom the world s first nation razor recycl program terracycl help keep hard to recycl blade and razor from end up in landfil through thi partnership we are make an effort to help recycl the estim billion razor thrown away everi year our planet kind razor handl are durabl and reusabl but if you want to dispos of them for ani reason terracycl can help with that too', 'antimicrobi nanotub in packag can revolution food safeti the food industri is look at use nanocarri infus biopolym instead of tradit thermoplast polym for it packag system while biopolym have the ad benefit of be from renew sourc environment friendli and rel easi to produc they have the signific drawback of have a tendenc to have poor mechan properti howev nanotechnolog can elimin thi problem by design a more substanti barrier if manufactur in the food industri can show these materi can help keep peopl safer from food born ill it not onli present a remark market opportun but it is also an effect risk manag strategi perhap some of these econom environment health and technic benefit could be transfer over to the medic devic industri in the form of a new antimicrobi nanocarri infus packag system urinari cathet or ostomi product comment', 'sustain in medic devic packag yeah it s a thing medic packag is one of the last sustain packag frontier but seriou effort are underway to shrink it footprint medtron describ some of the step taken by the world s largest medic devic compani to shrink it environment footprint', 'how are medic devic make consum more environment consciou the medic industri doesn t have the best track record when it come to environment howev some healthcar compani are chang that one of the way medic devic manufactur are creat eco consciou consum is by be transpar about their materi and process some compani offer servic to help recycl their product packag even if a product is effici buy it may not be as green a practic as you might think cleaner method of product are help solv that problem creat devic that consum can use for longer will reduc the frequenc at which their product get thrown away', 'smartphon camera test for urinari tract infect research at the univers of bath have develop a simpl point of care test for urinari tract infect that use a smartphon camera the system can rapidli detect the presenc of e coli in urin sampl and could guid doctor in their decis to prescrib antibiot ensur appropri patient care and avoid the overus of antimicrobi medic the new devic consist of a plastic strip contain micro capillari over which a user can pass a urin sampl antibodi present in the devic will bind to bacteria such as e coli present in approxim of urinari tract infect in the urin immobil them an enzym then caus a color chang that can be seen use a smartphon camera the system can analyz the result imag and provid an indic of the concentr of bacteria in the sampl thi technolog could be incorpor into the urinari cathet a separ funnel extens or into the bag thi could be combin with ph system etc and be part of user data collect', 'implant bladder wrap for improv urinari control research at penn state have develop an implant devic that coil around the bladder to detect when the bladder is full and assist with empti it by contract on demand the devic is intend to treat underact bladder a condit in which incomplet bladder empti lead to irregular and uncomfort urin there is an increas number of treatment come avail which could reduc the demand for contin care product', 'recent consum review on strategi to allevi eczema so what a a recent consum review provid a clue on to what to what and how the gener public is inform and educ on skin health care what product have the percept to work regardless of the scienc', 'use of cell membran inspir phospholipid polym for low friction surfac so what altern idea for low friction surfac use polymer brush could offer differ materi sourc or idea of hydrat surfac coat for swollen film', 'microsoft launch major m ai for health initi so what invest in ai from major corpor in healthcar provid evid that ai in healthcar is look to be establish as a fundament tenet in the healthcar space also suggest that tech compani are shift their focu onto other market where data collect and util are market agnost', 'gordon confer microbi adhes and signal transduct signal at the microb host interfac so what although thi confer wa in gordon program give the latest trend of scientif interest that is relev in that time point and to the up and come player in thi field it possibl to track the evolut of scientif thought and fundament aspect of thi field and use that titl as help to support signal and clue from mainstream articl', 'transform tradit bi the danish podcast dataklubben the dataclub talk about move from a legaci platform to a modern bi and analyt platform and how chang manag ha been at the core to reach reault with employe start think about compet and knowledg instead of specif technolog thi is all about work with busi intellig cloud transform data platform and report', 'transform r d challeng with data challeng design test and manufactur innov new product for patient with uniqu medic and qualiti of life requir solut appli design of experi doe techniqu to reduc cost acceler process and ensur the highest possibl product qualiti result from engin to plant oper r d team now captur and analyz data more effici and effect than ever befor enabl coloplast to get it newest medic innov on the market and in the hand of patient in need', 'whi industri is the next revolut in busi by invest in technolog that better connect peopl system and machin manufactur can becom more effici agil and collabor than ever befor that s the power i see in industri through the combin of technolog like ai iot and robot manufactur can craft new more product and less wast busi model', 'cancer precis medicin and ai oh my chicago s tempu a leader in artifici intellig and precis medicin today announc the launch of it new germlin sequenc assay xg a gene panel that specif identifi genet variant associ with hereditari cancer syndrom and inherit risk of cancer tempu enabl physician to make real time data driven decis to deliv person patient care and in parallel facilit discoveri develop and deliveri of optim therapeut the goal is for each patient to benefit from the treatment of other who came befor by provid physician with tool that learn as the compani gather more data acceler of person medicin cancer therapi', 'ecofriendli electron skin research at univers of boulder are creat a thin wearabl that stick to the skin the devic is a littl thicker than a bandaid stretch in ani direct and can be appli to the skin without heat it ha similar function to wearabl fit monitor on the market such as temperatur monitor and heart rate measur howev unlik fitbit and other plastic heavi wearabl they don t end up in landfil the screen print liquid metal wire circuit and it self heal polyimid hous can be fulli dissolv onc imerg in a recycl solut', 'uc davi develop a wearabl with ai to predict monitor locat bladder size volum most peopl take that kind of bladder fill awar for grant but it is lack for the approxim half a million individu in the unit state with spinal cord injuri or spinal anomali ghiasi describ how the noninvas sensor will combin sever sens modal such as ultrasound reson sens and light to tell if a bladder is full or empti the proof of concept studi have been promis with the current nsf grant the team will continu to refin the prototyp and undertak new studi on peopl with and without spinal cord injuri or anomali', 'a littl bit of posit goe a long way the paper emot attribut social connect and qualiti of life associ with intermitt catheter talk about the qualiti of life of patient who had to start use ic social connect is key survey were sent out about how the patient felt about ic attribut of depress anxieti feel bad about one s self empower independ and confid associ with ic were look at mani suffer emot distress due to the lack of posit attribut in associ with ic if the caregiv nurs show posit attribut toward ic the patient felt better', 'bladder irrig with povidon iodin thi paper bladder irrig with povidon iodin prevent recurr urinari tract infect in neurogen bladder patient on clean intermitt catheter discuss bladder irrig with povidon iodidn clean intermitt catheter patient who had recurr uti were use in thi studi jan jan on patient daili pi bladder irrig reduc uti by also a decreas in mdr uti microorgan reduc the number of er visit', 'skin pain is real problem for atopicdermat patient a recent articl talk about skin pain in atop dermat patient and a novel numer scale to measur skin pain in adult with ad could thi be appli to other area where pain is experienc http link springer com epdf s share token rclkb bixhcludm m y nfe rwlqnchnbyi wbcmay z gdywiik widh hayua jtohktok jjg tpl adndvv g qtbpjfh uz jseg vxoal a dc wedi allczcsmhm xevg dmahimih gqk ifrc ybzyuc d', 'bladder scanner are becom more portabl bladder scanner can provid insight into when a patient will need to void urin there is a trend to make bladder scanner more portabl and smaller for individu use a portabl or home bladder scanner could potenti reduc the frequenc of unnecessari catheter and risk of uti bladder scanner can also be a valuabl tool for provid post void residu volum to assess possibl urinari retent', 'essiti launch absorb underwear for menstruat and incontin hygien and health compani essiti is launch new rang of washabl absorb underwear within it feminin care and incontin product categori the underwear offer invis protect for up to eight hour provid user with a more sustain option than dispos protect', 'cryogen cool monopolar radiofrequ cmrf in stress urinari incontin jan pm et vivev medic inc vive by vandana singh sa news editor comment nano cap vivev medic vive ha initi it pivot pursuit trial to evalu cryogen cool monopolar radiofrequ cmrf in stress urinari incontin the protocol of trial reflect chang to the studi design approv by the fda includ an increas in size to subject to provid a clearer assess of the trial s primari endpoint primari efficaci endpoint of the trial is a comparison of the proport of patient who experi greater than reduct in urin leakag compar to baselin on the standard hour pad weight test at month post treatment versu the new sham procedur enrol is expect to complet by the end of the second quarter of thi year the compani announc posit result from a subject three arm feasibl studi evalu it cmrf for the treatment of mild to moder stress urinari incontin in women in august last year', 'eastman to build one of the largest plastic to plastic recycl facil in the world in tennesse eastman chemic will build one of the world s largest plastic to plastic recycl facil at it site in kingsport eastman alreadi a global leader in plastic chemic and fiber will invest approxim million in the facil over the next two year use molecular recycl technolog like methanolysi eastman s new world scale facil will convert polyest wast that often end up in landfil and waterway into durabl product creat an optim circular economi eastman hope to have the facil up and run by the end of the compani ha commit to recycl more than million pound of plastic wast annual by and hope to recycl more than million pound annual by', 'smart cathet a novel biosensor for earli detect of cathet associ urinari tract infect imperi colleg london have develop a wireless biosensor for continu monitor of cathet urin biochemistri thi project aim to valid thi biosensor and demonstr it s potenti for preemptiv cauti diagnosi through continu urinari biochem monitor their research project aim to demonstr that continu urinari biochem monitor use a smart cathet biosensor can provid rapid diagnosi of impend cathet associ urinari tract infect cauti the primari research question will then be doe the smart cathet devic reduc the time to diagnosi of cauti thi will be accomplish through four studi the aim of the first studi will be to show the reliabl and robust of the smart cathet devic through the question is there ani differ between the biochem measur from the smart cathet devic and a gold standard laboratori measur the aim of the second and third studi aim to demonstr the differ biochem profil of infect and healthi urin by address the research question what is the differ in biochem concentr in healthi urin as compar to infect urin studi will accomplish thi by compar infect human cathet acquir urin as compar to uninfect human cathet urin studi will monitor the chang in biochem chang in an artifici bladder with artifici urin over time while an infect is induc the final studi will demonstr the reduc time to diagnosi in a clinic set by address the research question what is the time differ in diagnosi of cauti from the cauti as compar to the current standard of clinic monitor', 'smart surfac may help tackl infect and antimicrobi resist contamin surfac and medic devic contribut to the transmiss of healthcar associ infect and the spread of antimicrobi resist in fact in there wa a in chanc that you would pick up an infect from be a patient in hospit introduc surfac that kill bacteria at point where patient are like to touch could bring thi number down if we do noth there will be million death due to antimicrobi resist by dr gerald larrouy maumu senior lectur depart of life scienc antimicrobi surfac could also play an import role in tackl antimicrobi resist when attach to a surfac commun of microb term biofilm can support microbi surviv and protect them from attack by biocid and antibiot thi can lead to sever infect in medic devic e g cathet associ urinari tract infect prosthesi e g infect hip joint and water born infect e g pseudomona and legionalla contamin of hospit water system the institut for molecular scienc and engin ha commiss a brief paper to look at how we can make surfac antimicrobi at the brief paper s launch yesterday author dr gerald larrouy maumu outlin how antimicrobi surfac could disrupt the microbi habitat by reduc microbi attach or kill attach microb you can watch the full launch of the brief paper here one way to make a surfac antimicrobi is by p hysic alter the properti of a surfac cicada a larg group of insect whose wing have antimicrobi properti are a good exampl of thi t he surfac of a cicada s wing consist of nanoscal spike that can punctur the cell wall of bacteria these nanoscal spike have been shown to be particularli effect against some type of bacteria includ e coli see link provid below for more detail on thi technolog', 'pressur sens cathet system univers of minnesota a multi sensor flexibl strip ha develop for a urethr cathet to measur distribut pressur in a human urethra the develop sensor strip ha import clinic applic in urodynam test for analyz the caus of urinari incontin in patient the develop cathet can provid simultan measur of pressur at multipl locat in the urethra with one static devic instead of the current techniqu of move the devic to measur pressur at one locat at a time the propos techniqu provid real time measur of the distribut of pressur and can be use for urethr measur dure provoc maneuv such as cough press the stomach etc the develop sens devic is highli flexibl for insert into the urethra and highli compact for inclus on a mm diamet cathet the sensor system reli on an inexpens dispos capacit sensor strip the sensor strip can be util with cathet of variou size as long as the slot size is standard for the strip in all cathet the sensor will util signal line embed on the sensor strip a singl electron interfac at the distal end of the cathet will enabl all sensor signal to be read simultan biomed pressur sensor have previous been develop in literatur for cardiac eye and brain applic howev all of these applic involv onli a singl sensor and not a seri of pressur sensor on a flexibl substrat for distribut forc measur', 'analyz and diagnos human wast from a standard toilet bowl outsens ha develop a technolog capabl of accur analyz and diagnos human wast from within a standard toilet bowl it solut offer a monitor platform that enabl earli detect of medic condit outsens is claim to be the first compani to demonstr that blood in the stool can be effect monitor in a standard toilet bowl rather than by send sampl to a lab the devic ha a multi spectral optic sensor an illumin modul and an autonom control with a wi fi receiv thi ensur captur data is automat transfer to the cloud where an applic carri out real time analysi and deliv insight to a devic belong to the end user or directli to the health care provid if the system detect ani abnorm it issu notif to trigger further analysi and treatment outsens s patent technolog use a small devic that clip onto a toilet bowl the devic is equip with a smart optic sensor that autonom scan human wast without the need for ani user intervent the inform is transfer to a secur cloud platform where it is analyz use advanc imag algorithm and artifici intellig ai tool thi can be later seen in view on the outsens mobil applic the analysi includ the patient s medic histori and enabl person diagnost and biofeedback the system s report is deliv to the caregiv and user outsens s initi clinic focu is on screen for hidden blood in the stool which can be an earli indic of colorect cancer crc thi technolog can also monitor for dehydr urinari tract infect constip and diarrhea each of which can caus deterior and eventu hospit in elderli peopl the technolog s abil to detect hidden blood in the stool ha alreadi been clinic test and valid via a studi carri out at israel s meir medic center which found it had accuraci dehydr detect ha also pass an initi feasibl test with high accuraci while other use case are current in the develop phase', 'saphen neuromodul could modul bladder function more effect and consist than tibial neuromodul professor paul yoo co founder and hi team discov that saphen neuromodul could modul bladder function more effect and consist than tibial neuromodul sinc the saphen nerv is a pure sensori and anatom superfici close to skin surfac below the knee thi novel target offer numer advantag over exist therapeut approach at home therapi no motor side effect larger therapeut window and easili access locat ebt medic develop the nsafn noninvas saphen neuromodul is that it work via a differ mechan than sacral neuromodul similar to percutan tibial neuromodul the therapeut effect of nsafn exhibit a slow onset slow offset pattern of action make it ideal for intermitt stimul rather than requir constant stimul thi allow for long durat of action without the inconveni or invas of a percutan or implant therapi electr activ of the saphen nerv can elicit signific chang in urinari function with no report advers event due to the peripher locat of the saphen nerv treatment of overact bladder symptom may also be achiev by transcutan electr stimul or with a chronic implant devic and the patient that use thi devic experienc statist signific chang in bladder symptom relat to urinari incontin decreas and night time urinari incontin decreas when compar to baselin that contribut significantli to the patient s qualiti of life', 'wireless cathet devic to replac intermitt cathet the connect cathet develop by a team at spinal singular is a fulli intern extend use smart cathet system which provid control for men who face daili challeng of live with a neurogen bladder like the inabl to feel the full of their bladder or control their bladder to urin lead to chronic urinari retent the user place the magnet on the control next to the valv in the insert cathet and activ the control s motor when the valv is open and the motor is activ the titanium pin spin forward activ propel urin out of the bladder thi allow for a more complet empti of bladder and expuls of residu urin from the urethra when the cycl is complet the pin is activ again spin in revers to close the valv a weekli exchang of a steril cathet as oppos to multipl daili insert up to in a week decreas the likelihood of bacteria be transmit accord to the startup the connect cathet system is the first extend use fulli intern wireless urinari cathet design for adult male with urinari retent clinic trial and regulatori submiss for fda clearanc and ce mark approv are current underway the team use an overmold process that wa shorter less costli and reduc the likelihood of devic failur it ha not reach market penetr but as the devic is near the end of develop it could be an opportun to collabor with', 'low frequenc ultrason wave prevent bacteria adhes to cathet the uroshield is a small extern devic which clip onto the end of cathet and produc low frequenc ultrasound wave the uroshield devic is a commerci avail devic with two part a dispos actuat which attach to the extern portion of the cathet and a portabl batteri the devic send out low frequenc ultrasound wave which run along the surfac of the cathet these acoust wave prevent bacteria from adher to the cathet and prevent the format of biofilm these wave run along the full length of the cathet and give gentl vibrat which can not be felt by the cathet user usual with a cathet bacteria gather in a larg group on the cathet and are surround by a thick protect coat which is known as a biofilm usual the biofilm is extrem hard to penetr so the bodi s natur immun system and infect defens system struggl to kill the bacteria therefor infect and or blockag form these sound wave and vibrat from the uroshield help to prevent bacteria from stick to and build up on the cathet therefor prevent encrust infect and blockag antibiot also struggl to access the bacteria within the biofilm which are caus the infect becaus uroshield break up the biofilm antibiot and the immun system now have access to kill the bacteria and so if necessari a shorter cours and lower dose of antibiot can be administ uroshield can also offer some peopl relief from cathet relat pain and bladder spasm uroshield is effect with all cathet type make size length or materi and it also doesn t matter whether your cathet is suprapub or urethr it doe not seem to impact the uroshield efficaci if the cathet is flip flow or free drainag to allow administr with all type of cathet', 'pressur sensor system support improv in bladder monitor and alarm bladder pressur is the best indic of bladder function invivo bionic ha develop a technolog with the purpos of promot remot monitor of void problem such as urinari incontin and overact bladder the sensor is link to a wireless devic and allow for the patient to follow their bladder condit real time person diseas follow up the compani develop micro and nano pressur sensor system for continu monitor of the human bladder the sensor are implant directli into the urinari bladder and a refer sensor place outsid the bladder wall the compani also offer a wireless devic for continu monitor of urinari pressur thi data is link to an alarm system that inform the patient when the bladder is get full', 'turn a smart phone into a medic devic veliv is a tool for urinari infect diagnosi and is base on the use of artifici intellig to analyz a dipstick urin test the ia technolog of veliv app transform the smartphon camera into a medic devic enabl the analysi of color chang in the dipstick urin test in comparison with a color board the urin test dipstick detect leukocyt nitrit and trace of blood clinic test result are review by the doctor togeth with the patient s answer to symptom questionnair avail in the app after the analysi of the data the doctor perform uti diagnosi veliv use artifici intellig ai to turn the smartphon camera into a medic devic enabl simpli and quickli urinari infect uti diagnosi at home the system is form by a singl wrap dipstick a urin collect cup and a colour board the patient download the veliv app which ha a user friendli interfac and will provid a guid for the test to be perform in minut after follow the instruct to collect a urin sampl and submerg the dipstick into it the dipstick is place on the color board for veliv app scan the app use ai to normal and analyz the dipstick imag regardless of the light condit and camera type veliv app detect leukocyt nitrit and trace of blood in the urin through the comparison of dipstick color with the color board the patient also answer an in app questionnair regard their symptom which will be analyz by a doctor togeth with clinic test result uti diagnosi is perform within minut after test complet veliev is as accur as standard lab equip and is author to be commerci at the european union eu the veliv app is also in accord with the eu gener data protect regul in the unit state veliv is limit to investig use and a clinic trial to evalu the veliv accuraci wa recent conduct healthi io is also use the same ai technolog to develop at home system for earli detect of chronic kidney diseas and wound manag', 'eu lawmak call for target to reduc raw materi use lawmak in the european parliament s environ committe will call for legal bind target to reduc raw materi use in a report due to be vote on thi week the vote on tuesday januari will shape the parliament s respons to the european commiss s circular economi action plan present in march last year tighter wast and recycl law are central to the commiss s plan with new target due to be present thi year as part of a broader revis of eu wast rule in their report mep call on the european commiss to propos scienc base bind eu mid term and long term target for the reduct in the use of primari raw materi in manufactur industri to achiev thi they call for a back cast approach to ensur that polici object are on a credibl path to achiev a carbon neutral and fulli circular economi within planetari boundari by at the latest hollist is current in teh medic consum busi and could find itself in jeopardi if or when thi legisl will come into play', 'can human mortal be hack a fring group of scientist and tech mogul think they re close in on the fountain of youth', 'man with al couldn t feed himself anymor so built hi own feed robot when thi michigan man with al couldn t feed himself anymor he built hi own feed robot for technolog is becom cheaper and easier to code and build thi maker approach to person care could see user find and even distribut say under cc medic devic', 'wearabl circuit sinter at room temperatur directli on the skin surfac for health monitor a soft bodi area sensor network present a promis direct in wearabl devic to integr on bodi sensor for physiolog signal monitor and flexibl print circuit board fpcb for signal condit readout and wireless transmiss thi could significantli contribut to more discreet and less obtrus monitor and perhap even prevent and cure condit', 'a new artifici eye mimic and may outperform human eye thi devic which mimic the human eye s structur is about as sensit to light and ha a faster reaction time than a real eyebal it may not come with the telescop or night vision capabl that steve austin had in the six million dollar man televis show but thi electron eyepiec doe have the potenti for sharper vision than human eye research report in the may natur if bionic eye are possibl sure bionic bladder are there too', 'neuralink may start human implant later thi year neuralink could be a way to bridg a spinal cord injuri', 'covid vaccin site temporarili shut down after protest gather at entranc dodger stadium s mass covid vaccin site wa temporarili shut down saturday afternoon when about anti vax protest gather at the entranc frustrat hundr of motorist who had been wait in line for hour scienc is under sieg from stupid we need to increas our effort to keep our messag relev clear and fact base', 'artifici intellig use in longev medicin develop recent advanc in deep learn enabl the develop of ai system that outperform human in mani task and have start to empow scientist and physician with new tool sinc ai system have outperform human expert in multipl area includ imag recognit knowledg quizz video game languag translat and mani other task most of these achiev have been made possibl by variou advanc in deep neural network train on larg data set use high perform comput ai is a blackbox that we have no access into matur market like the one we are in are potenti ripe for ai disrupt', 'wirelessli recharg soft brain implant control brain cell research have invent a smartphon control soft brain implant that can be recharg wirelessli from outsid the bodi it enabl long term neural circuit manipul without the need for period disrupt surgeri to replac the batteri of the implant scientist believ thi technolog can help uncov and treat psychiatr disord and neurodegen diseas such as addict depress and parkinson s thi type of technolog could map area of the brain that control sphincter mictur activ', 'synthet nerv conduit bridg the gap in arm nerv repair a team of scientist ha creat a biodegrad synthet conduit that repair larg gap in injur nerv which support recoveri and acceler neuron heal in a macaqu model the synthet nerv conduit could offer a viabl altern to autograft the current gold standard treatment for support the regener of nerv in patient who have experienc trauma and sever injuri trauma or surgic procedur can damag the bodi s peripher nerv result in gap between the nerv that impair movement and daili life peripher nerv do have the abil to slowli regener across small gap with some assist but larger gap from more sever injuri are more challeng to heal clinician treat larg nerv gap by transplant nerv tissu from elsewher in the bodi call an autograft but thi approach doesn t work for all type of injuri and can caus pain or a loss of sensat build on previou work in rat neil fadia and colleagu test a synthet conduit that can bridg larg nerv gap by guid the regrowth of neuron their devic is a small tube shape object made of a biodegrad polyest with microspher that releas gdnf a protein that support the surviv of neuron embed in the wall of the tube when implant into macaqu with larg nerv defect in their arm the nerv guid boost nerv regener and the nerv abil to conduct signal over the cours of a year the anim that receiv the conduit recov their motor skill as well as those treat with autograft and show superior recruit of cell that sheath neuron in myelin an import protein that insul nerv what if we could bridg break that caus sci', 'how we spend on healthcar last year america s total medic cost hit a new record of trillion accord to the feder govern that s about percent of the countri s total gdp mean that one out of everi six dollar we spent in went to health care what if prevent is the cure', 'medtech is ripe for a vc takeov with nearli trillion in annual spend on healthcar in thi countri there are gross ineffici and unmet clinic need that must be address the marriag between healthcar and technolog will impact everyth how patient interact with care provid how diagnost data is obtain and analyz how intervent is recommend and perform and how outcom are measur and quantifi a vc approach to busi model disrupt coudl be catastroph to oper', 'amazon offer to assist biden administr with covid vaccin distribut and logist may give amazon a privat compani a valuabl new trove of health data as it is expand into pharmaci and digit health potenti suppli chain disrupt in futur amazon s bid come as biden offici say they re tri to repair the vaccin distribut system they inherit could help the compani boost it own ambit of expand into the trillion health care marketplac amazon might use ani feder agreement to push it own corpor advantag becaus they re veri well known as a compani to tri to liter domin the market and forc out ani competit', 'coloplast acquir nine continent medic inc tibial nerv stimul for over activ bladder ound in nine contin medic inc is a privat held compani that ha develop an innov solut for over activ bladder oab a condit characteris by a rang of symptom includ the need to urin more frequent increas urgenc incontin or leakag and a need to urin at night the devic is an implant tibial nerv stimul itn a miniaturis self power unit place in the lower leg under local anaesthesia dure a short minim invas procedur the solut requir no patient activ recharg or recur doctor visit and build on the clinic proven mode of action of percutan tibial nerv stimul which is an oab treatment avail on the market today coloplast s ambit is that clinic studi will demonstr that patient receiv thi solut can live a more normal life with significantli reduc symptom we expect to begin pivot studi in with the ambit to obtain premarket approv for a class iii devic in the us and eu market approv in the timefram today million peopl global suffer from oab symptom about of the oab patient popul seek treatment and of those about million patient global are candid for rd line therapi like the solut develop by nine contin the acquisit of nine contin and entri into the oab segment fit with coloplast s strategi to pursu organ and inorgan growth opportun in the intervent urolog busi and align with coloplast s mission and strateg direct to bring innov solut to the market i am excit about the prospect of the nine contin devic and pleas to confirm our commit to the intervent urolog busi with thi acquisit in the larg oab market there is a larg group of patient in the us and abroad suffer from oab and with nine contin innov minim invas devic we hope to help these peopl live a better life say kristian villumsen presid ceo of coloplast the acquisit is debt financ use exist credit facil and coloplast s dividend polici is unchang the acquisit ha no impact on coloplast s long term guidanc of organ growth p a and more than ebit margin in constant currenc oper cost until commercialis are includ in coloplast s annual increment commerci invest of up to of revenu', 'world s first d print rib eye steak creat in israel aleph farm and technion israel institut of technolog have unveil the world s first slaughter free ribey steak d print is come mainstream so could be use everywher soon', 'januari ai launch consum glycem educ program non diabet can now use glycem predict for healthi live in their everyday live use it to decid on food time of meal durat of intermitt fast etc januari ai s telemedicin is abl to help peopl get the tool and expert analysi that they need to guid their own health journey we believ that peopl own their health data and should have the opportun to combin and integr it to benefit from more comprehens and action insight they are invest time and financi resourc in log their food track their heart rate and glucos undertak elimin and other diet order food sensit genet and microbiom test wouldn t it be wonder to be abl to combin these someday ask hashemi we are invest in help physician and coach to deliv the best care that they can while empow user to know the most about their bodi self advoc and becom their best self she continu', 'fitbit as a covid sensor in space nasa is offer fitbit devic to mission critic employe includ astronaut to mitig the risk of spread infecti diseas among astronaut flight crew in the immedi preflight period the program is base on the premis that rest heart rate data and other key health indic from wearabl have the potenti to identifi flu like ill such as covid befor symptom emerg the fitbit readi for work daili check in featur allow user to view key health metric rest heart rate heart rate variabl and breath rate track by their fitbit devic alongsid self report symptom temperatur log and covid exposur base on a user s daili check in the solut will provid nasa employe with daili guidanc to help them decid whether to go to work or stay home', 'glow microneedl test could catalyz a transit from blood base diagnost to a stick on patch in a paper publish in januari in natur biomed engin research from washington univers in st loui report catch isf biomark with dispos microneedl patch and measur them up to about time more sensit than compar biomark test these rectangular patch no wider than a dime contain hundr of plastic needl each prick less than a millimet long', 'associ of plasma biomark of fruit and veget intak with incid type diabet european prospect investig into cancer and nutrit epic conduct a cohort studi in countri to determin if h igher level of plasma vitamin c were associ with a lower hazard of type diabet', 'm gigaton scale carbon remov musk and xprize are provid a prize for larg scale carbon remov innov', 'solv care and skale network announc partnership to give healthcar on blockchain a boost the solv care platform is design to remov barrier within the healthcar system by run decentr patient centric care network connect peopl and coordin care benefit and payment patient and user can access these variou care network through a singl interfac solv care s care coordin app care wallet a block chain approach is util to safeguard the transmit and share inform', 'botox approv for neurogen detrusor overact in pediatr patient fda ha approv botox for the treatment of neurogen detrusor overact ndo in patient year of age and older', 'http medicaldialogu in urolog news hormon therapi reduc uti risk in postmenopaus women studi post menopaus women that are on estrogen therapi tend to have less uti thi is like attribut to the mainten of a healthi genitourinari microbiom which includ the presenc of lactobacillu speci', 'an emerg link between the urinari microbiom and urinari incontin some studi that suggest lactobacillu base probiot may be effect in prevent urinari tract infect', 'nosocomi infect due to medic devic could be a thing of the past there ha been a lot of research late and a long while ago about control nosocomi infect rate via special coat on medic devic one that keep surfac even as late as thi year is antimicrobi peptid antimicrobi peptid coat surfac amp could prevent infect peptid such as melimin and mel show broad spectrum antimicrobi activ those abov peptid are also biocompat amp have shown efficaci against gram neg and gram posit bacteria they ve been trial in implant with success of lower infect rate', 'garlic keep vampir and microb away there are mani plant and herb that can actual keep infect down due to their specif properti garlic ha a well known histori of be abl to act as an antimicrobi garlic is from the plant famili of allium it ha the highest antimicrobi properti of that plant famili allicin is a compound found in garlic that exhibit antimicrobi activ against both gram neg and gram posit bacteria there ha been data collect show that it can inhibit biofilm format allicin also act as an anti inflammatori garlic extract ha been known to show good biocompat and even promot cell growth', 'orang peel from garbag to antimicrobi tech savvi polyphenol in citru fruit have been known to have antimicrobi properti orang specif have been look at close in lab in order to test their antimicrobi efficaci peel of orang were made into a powder and the polyphenol were extract in mani of the case of test the peel for antimicrobi activ mani studi have often gone after dental pathogen dure the dental studi it wa shown that the polyphenol in orang peel do cut down on antimicrobi activ one studi in particular look at the efficaci of polyphenol in orang peel against key pathogen often seen as complic uti pathogen staphylococcu aureu escherichia coli pseudomona aeruginosa and klebsiella pneumonia we work with pathogen uti caus strain of each of those microb', 'orang peel from garbag to antimicrobi environment savvi polyphenol in citru fruit have been known to have antimicrobi properti orang specif have been look at close in lab in order to test their antimicrobi efficaci not onli have they shown to have antimicrobi efficaci harvest the garbag instead of put it into the garbag could have an environment impact as well while the peel are biodegrad when put into garbag bag and such it creat more wast on a less technic aspect cost would be lower as it is from a fruit on a less technic aspect use part of the fruit that aren t typic eaten can be seen as environment savvi', 'nih nutrit studi aim to learn which diet best suit your gene and gut in may nih director franci collin releas the agenc s first ever year strateg plan for nutrit scienc acknowledg the import of diet in chronic diseas such as heart diseas and diabet the plan aim to fold in basic disciplin such as neurobiolog studi the role of diet across the life span consid how food can serv as medicin and elev precis nutrit the concept recogn that how the human bodi respond to food depend on factor from genet to sleep habit social environ and gut microb for exampl the isra studi that found individu differ in the respons to refin sugar versu fruit show the microbiom wa larg respons', 'artifici finger can test how long covid will last research at the defens scienc and technolog laboratori at porton down have creat a silicon finger that can releas natur oil and secret that come from skin thi new technolog can help scientist studi how long covid can last on surfac and how it can be transmit through touch', 'gdpr gener data protect regul affect ai startup in the eu pass the gener data protect regul gdpr which wa design to regul ai busi and protect consum person data sinc then it ha been met with some prais as well as critic while some think it is as necessari step in order for consum and govern to trust ai technolog other think it hamper innov the law state four right the right against autom decis make the right to erasur the right to data portabl and the right to explan some ai startup argu that these law limit them too much for exampl in a survey conduct to find the impact of gdpr on ai startup it found that in respons to gdpr respond have delet data slow the abil for compani to innov', 'multipl cardiovascular read in a singl devic french consum electron compani with ha releas the with bpm core which integr a bp ecg monitor and stethoscop all in one sleek arm cuff it can monitor and detect three differ highli preval heart diseas includ hypertens atrial fibril and valvular heart diseas read can be taken in second or less in the comfort of your home and result are sent to a connect app which can be conveni share with your doctor', 'horizon europ research fund programm to launch earli horizon europ is a plan year european union scientif research initi meant to succeed the current horizon programm the european commiss propos billion for horizon europ due to launch in thi will allow both industri and academia to come togeth and submit propos to request fund for the develop of new and innov technolog solut', 'horizon europ research fund programm to launch earli econom len horizon europ is a plan year european union scientif research initi meant to succeed the current horizon programm the european commiss propos billion for horizon europ due to launch in thi will allow both industri and academia to come togeth and submit propos to request fund for the develop of new and innov technolog solut', 'rpa take the robot out of the human the what peopl spend a lot of time and energi repeat the same task over and over again like export from sap and report from salesforc thi take time and energi from the associ and is a non valu activ look at the data and analys the report is the valu ad activ if a person is sick or on leav or decid to find a new job there is a risk that the job either isn t execut at all or is execut differ by use softwar robot rpa peopl can spend more time on their valu ad activ there is a higher level of complianc as there is a guarante for consit and job can be carri our regularli that are so bore that you would never ask a human to do it', 'color chang kitti litter whether for their pet or for themselv peopl are look to be proactiv in regard to their health these kind of earli diagnost indic as commod item seem to be becom more and more common len social b c thi is driven by the individu desir to keep tab on hi her health and the health of their love one', 'woc nurs are use product compani more to send product sampl to patient becaus peopl stay home now and don t interact at the offic physic go in to the clinic may becom a thing of the past or reduc in frequenc to onli need base visit as a result of the pandem acceler peopl s comfort with telemedicin and a hybrid pysio vitual health care model opportun for tele health remot monitor sensor system e g to help clinician monitor patient more accur intervent in the patient journey with compani nurs e g or find a way into the patient life sinc they are now find themselv more separ physic mental from the clinic care set', 'mail in medic test or subscript box perhap in part driven by the covid pandem mail in medic kit are becom more and more common exampl everlywel i have person use thi for covid test but they offer other type of medic test e g allergi test lab test food sensit test etc modern fertil and me similarli i have alway been a fan of subscript box but i see them becom more and more preval exampl book of the month club book ipsi beauti stitchfix cloth fabfitfun mix allur beauti box beauti cureolog dermatolog barkbox dog toy len social becaus thi is driven by trend in the market and a push for conveni', 'woc nurs are use product compani more to send product sampl to patient becaus peopl stay home now and don t interact at the offic emerg suppli chain burden for product compani like hollist industri may incur new hidden cost to deliv product sampl to patient previous these patient were like suppli with sampl on hand at the clinic by the nurs they built a face to face relationship with the previou product sampl market may have a compassion layer to it s cost structur that is base on donat patient and sale rep and other irregular sourc trade show focu group', 'no code movement a quiet revolut for non technic founder if you are a design thinker with an idea for your busi no code give you the opportun for advanc develop that most startup haven t explor we are not invest enough in digit technolog yet digit technolog are becom more and more preval and ubiquit by not be invest in digit we are lose in the futur', 'no code movement a quiet revolut for non technic founder digit tool are becom more and more access and younger gener becom more and more tech savvi our develop cycl is somehwhat stifl by the lack of in hous digit skill by not be in the know we are miss out on the opportun that will keep us in busin', 'in the next year we ll reinvent everi industri in the next decad we ll experi more progress than in the past year whi comput is the foundat be it classic or quantum comput as it becom faster and cheaper lot of technolog that use it also becom more capabl for exampl commun network sensor robot augment and virtual realiti blockchain and ai are all exponenti improv but they are also be interweav and converg for exampl ai with robot and that s get even faster becaus the number of peopl with access to technolog is increas so we are abl to solv more problem there s also more capit avail than ever befor which mean more crazi idea be fund which in turn lead to more breakthrough and the cost of do thing is also get cheaper the number of experi go on in the silicon valley garag is explod', 'musk launch hunt for carbon neg not neutral technolog with m xprize vc s capit solv the climat crisi could they do the same to help startup with the typic barrier to entri into medic devic develop', 'the new tech stack for virtual first care after a record break year for digit health we re final enter into a new golden era for tech enabl healthcar there ha been an explos of stand alon full stack digit health startup that take the form of a virtual clinic and compet directli with tradit provid for patient where do we fit in that stack', 'deep learn is go to be abl to do everyth kinda say it all if deep learn is go to be abel to do everyth then what do we end up do', 'china plan to instal signific pla capac follow singl use ban that exclud biodegrad plastic china plan to instal signific pla capac at t a current world capac is t a and similar effort for fossil base pbat and pb by could thi troubl other us and european pla produc with extrem low price or rather increas market accept for pla product while china can becom a power leader in implement sever circular economi measur quickli it should be concern to see littl mention of complementari plan to ramp up improv recycl end of life scenario for such increas bioplast capac it is known for pla to take y to decompos in the ocean with unclear effect along the slow fragment and decomposit process prevent of environment leakag should be a prioriti over make such leakag biodegrad especi for capabl industri nation', 'the next hack may be wors than stolen data triton is the world s most murder malwar and it s spread the rogu code can disabl safeti system design to prevent catastroph industri accid it wa discov in the middl east but the hacker behind it are now target compani in north america and other part of the world too triton s discoveri rais question about how the hacker were abl to get into these critic system it also come at a time when industri facil are embed connect in all kind of equip a phenomenon known as the industri internet of thing thi connect let worker remot monitor equip and rapidli gather data so they can make oper more effici but it also give hacker more potenti target', 'despit record invest level firm struggl to deriv valu from their big data and ai invest in the survey fortun compani report a declin in the lead metric which are use for measur the success of their data and ai invest compani report struggl to make progress and in mani case even lose ground on manag data as a busi asset forg a data cultur compet on data and analyt and use data to drive innov onli report achiev transform busi outcom and just report have develop a well articul data strategi perhap most tellingli just of respond said that they thought their organ wa data driven thi past year a declin from the year befor a figur that suggest that effort to incorpor data into decis make process were not as success as leader had previous believ', 'major hospit form compani to capit on their trove of health data a group of major hospit system is launch a compani to pull togeth and sell access to anonym data on their million of patient for use includ research and drug develop among the backer of truveta inc are hospit owner includ provid commonspirit health advoc aurora health triniti health and tenet healthcar corp', 'pandem driven drop in cancer screen may aid research on overdiagnosi it s counterintuit but catch cancer earli isn t alway for the best and the coronaviru pandem might leav lesson for futur cancer screen in it wake', 'noninvas sensor that measur hydrat for target dialysi treatment identifi fluid accumul in patient who need dialysi is import to ensur that fluid is remov at the correct rate howev current method are all invas and are not veri accur research at mit have creat a portabl sensor to solv thi problem the devic use nmr and ha the potenti to be use at home so patient can identifi fluid accumul earli and reduc hospit', 'high tech product method for drug deliveri microbot a new product method call d lithographi can creat high precis micromachin that can be use to deliv drug the method use electrochem deposit to fill a templat with polym or metal onc the materi is place within the mold the templat is dissolv away as a proof of concept research have creat a tini vehicl with magnet wheel that are power by a magnet field besid drug deliveri research believ these devic also can act as stent that unfold base on magnet field', 'biden will sign execut order to push us semiconductor industri last year the trump administr cut off suppli of us semiconductor to china s semiconductor compani huawei accus the compani of spi on us custom some expert say thi ha stall the semiconductor industri caus a delay in u s manufactur in the automobil and other industri ibm and nvidia are urg biden to sign an execut order to give more fund and incent for the industri increas fund could give the us a competit edg in emerg technolog and could set a secur preced for g and artifici intellig', 'diageo announc first plastic free paper base spirit bottl consum product compani have come under increas scrutini for the amount of plastic they use in packag a new trend ha emerg and will like continu for more eco consciou product packag', 'flexibl forc sensor for human health monitor n recent year health monitor system hm have arous great interest due to their broad prospect in prevent medicin as an import compon of hm flexibl forc sensor ff with high flexibl and stretch abil can monitor vital health paramet and detect physic movement', 'biofilm materi biofilm is a bio base materi made from sugar cane it s the process of photosynthesi as the plant grow that make thi product carbon posit the sugar cane activ captur co from the atmospher while at the same time releas oxygen make thi materi not just green but proactiv green the benefit of biofilm polythen packag our biofilm materi can be chosen as an altern option to standard polythen for your plastic packag across our entir product rang it offer your compani the opportun to improv your green credenti meet legisl requir and deliv improv environment solut', 'employ precis medicin new cure from the bacteria that live in the human bodi in life scienc we ll have greater understand of the dynam of how our microbiom the tini organ includ bacteria that live in the human bodi influenc multipl system in our bodi includ our immun system metabol process and other area thi will result in semin discoveri relat to a varieti of condit includ autoimmun diseas pre term birth and how our metabol is regul regen medicin approach to creat new tissu and organ from progenitor cell will expand significantli final the long await abil to employ precis medicin provid specif treatment to a specif patient will becom much more common mark fischer colbri ceo of labcyt inc', 'voic interfac voic is the new mobil it took almost year for the form factor and the interact of smartphon and tablet to slowli eat their way through from content websit to e commerc and erp system just as disrupt but much faster voic as ui is now come to the user experi amazon s alexa is the classic exampl of the innov s dilemma initi limit and come from the consum sector voic interfac are develop so quickli that they will soon overtak certain user interact in the busi sector even if it s irrelev now for artifici intellig whether it commun with peopl use natur languag or text natur languag find a faster user accept thi will be further intensifi by the corona relat demand for touchless ui text base chatbot continu to fall short of expect', 'algorithm will run machin not human underperform sensor commun and algorithm unintent cyber safeti or deliber manipul cyber secur are the princip sourc of the new risk in addit there is the increas complex of softwar system multipli in uncertainti by machin learn and ai base system', 'coca cola put it first paper bottl to test their vision is to creat a paper bottl that can be recycl like ani other type of paper the new paper bottl still contain some plastic but the firm is head toward a complet plastic free version', 'us militari seek to build factori on moon us militari is look for way to build factori and variou other build on the moon thi is be done to serv the defens depart', 'appl watch detect covid day earlier than regular test thi new method could pave the way for futur diagnost method and assist in track and improv the manag of the viru the main focu that the studi s research paid close attent to wa heart rate variabl hrv someth that detect when a person s nervou system is strain what the team notic wa that through thi method of wear an appl watch and close track particip health they could predict infect up to a week befor tradit test confirm the diagnos', 'mit research develop laserfactori a one stop shop robot build d printer research at mit s have develop a d print system that is abl to fabric complex devic that are readi to go right out of the printer dub laserfactori the system use a three ingredi recip that let user creat structur geometri print trace and assembl electron compon like sensor and actuat', 'nasa veteran are build an orbit space hotel with artifici graviti nasa veteran are plan to build a liveabl area resort in low earth orbit that spin quick enough to gener synthet graviti to prevent the effect of micrograv for long term tourist', 'nanosensor in microfib to creat smart bandag to detect infect nanosensor in microfib are be incorper in bandag to creat smart bandag to detect infect singl wall carbon nanotub within the bandag will be abl to identifi an infect in the wound by detect concentr of hydrogen peroxid the signal can then be transmit to a smartphon type of devic that then automat alert the patient or a health care provid', 'global trend the power forc govern the global transform that start in the earli s are reshap the world ever more strongli and rapidli the world is becom steadili more complex more challeng and also more insecur part one of thi report set out five global trend the human race is grow older and richer with a gr owe middl class and widen inequ econom weight and polit power is shift to asia sustain develop of the world economi is becom more vulner to challeng and to weak in the globalis process a revolut in technolog and their applic transform societi in almost everi aspect digitis is the invad and radic disrupt chang the consequ manag scarciti of resourc becom an increas challeng with rise energi consumpt and shift pattern of product the interdepend of countri now a fa ct of global life is not match by strengthen global govern the', 'fabric fulli function drone csail s laserfactori system autom the full process for make function devic in one system the mit csail team s laserfactori system can manufactur function custom made devic and robot without human intervent potenti enabl rapid prototyp of item like wearabl robot and print electron', 'light power robot arm increas d print manipul research team at northwestern univers develop a method that use light to improv the speed and precis of d print the method featur a light activ robot arm pair with a liquid photopolym the system ensur free motion the abil to rotat or dilat each individu print layer in the d print process as the structur is be built', 'nomin invit for kabil prize establish in the kabil prize is the world s largest monetari award for outstand achiev in nanomedicin it recogn research who have made signific career long contribut to the field of nanotechnolog and it applic to medicin and biolog the kabil young investig award is given to emerg research who have made recent groundbreak discoveri with the potenti to make a last impact in nanosci and nanomedicin nanotechnolog is revolution aspect of medicin but we re just begin to realiz the potenti not onli for diagnosi and treatment of diseas but also for improv qualiti of life said kabil by recogn pioneer in the field we re reach out to the next gener of research with an invit to follow in their footstep', 'technolog innov may be a threat multipli for doomsday clock advanc in travel energi consumpt and industri made these sector more effici and simpler but mani time they can also contribut to an increas in the use of fossil fuel and pollut breakthrough in comput technolog and softwar enabl us to structur our live and work effici and manag busi and govern but unintent some technolog in cyberspac ha the potenti to caus instabl latiff said', 'chicago think zocdoc can help solv it vaccin chao in earli februari the depart of public health announc a plan to help eas some of those technic problem a partnership with zocdoc the popular onlin health care schedul compani zocdoc is act as a unifi portal for multipl provid so that peopl can sign up with a singl more user friendli tool rather than wrestl with sever differ system at onc while chicago is the first citi to make thi specif agreement with zocdoc other health agenc are launch similar partnership with privat startup it s ultim easier to provid harmon access to patient creat a win win environ', 'in new step toward quantum tech scientist synthes bright quantum bit qubit work by har a phenomenon call superposit while the classic bit use by convent comput measur either or a qubit can be both and at the same time the team want to find a new bottom up approach to develop molecul whose spin state can be use as qubit and can be readili interfac with the outsid world to do so they use organometal chromium molecul to creat a spin state that they could control with light and microwav by excit the molecul with precis control laser puls and measur the light emit they could read the molecul spin state after be place in a superposit a key requir for use them in quantum technolog', 'wearabl covid sensor receiv major award from the u s depart of defens sit at the base of the throat the northwestern devic use an electrocardiogram and a motion sensor to measur subtl vibrat from the bodi to continu captur heart rate breath cough and temperatur fever a second pair devic wrap around the finger to measur blood oxygen level and non invas continu blood pressur the icu grade data output can be store on the sensor or display on ani standard smartphon furthermor in the time of covid we forget other killer xu ad these sensor and the algorithm that we will develop could be appli to other seriou virus such as the influenza and rsv that kill ten of thousand of peopl everi year', 'batteri free game boy run forev button press and solar energi power the retro game devic batteri are costli environment hazard and they must eventu be replac to avoid that the entir devic end up at the landfil wherea game reduc peopl s stress and boredom intermitt comput help reduc game s environment impact', 'john hopkin research take inspir from parasit work for gi tract medicin deliveri john hopkin research have design tini star shape microdevic that can latch onto intestin mucosa and releas drug into the bodi state that normal constrict and relax of gi tract muscl make it imposs for extend releas drug to stay in the intestin long enough for the patient to receiv the full dose name theragripp these devic releas their payload and lose their hold on colon tissu and are clear from the intestin via normal gastrointestin muscular function', 'medic devic use northwestern invent biomateri receiv fda clearanc anti inflammatori synthet biomateri aid tissu regener an innov orthoped medic devic fabric from a novel biomateri pioneer in the laboratori of northwestern univers professor guillermo a ameer ha receiv clearanc from the u s food and drug administr fda for use in surgeri to attach soft tissu graft to bone the biomateri is the first thermoset biodegrad synthet polym ever approv for use in an implant medic devic it s uniqu chemic and mechan properti enabl cut edg implant design that protect the soft tissu graft dure insert and optim graft fixat to bone', 'antimicrobi packag there are a few essenti oil that can actual possess antimicrobi properti one of these essenti oil is orang peel essenti oil it is use to produc antimicrobi film and coat orang juic process wast as a powder can be an antimicrobi agent orang juic process wast is cost effect and less time consum as an agent for antimicrobi properti mix with plastic it show high efficaci against microorgan', 'helper t cell to save the day more and more sar cov infect are becom more and more resist to antibodi there are more and more evid that t cell cd and cd are abl to help fight the infect alison tark et al identifi mani sar cov deriv epitop thi give a good insight to the immun respons against the infect t cell wont prevent ani type of infect but instead they becom activ after the bodi is infect they can help control how sever the ill will becom acut infect instead of a seriou infect', 'unus rapid covid test are pile up at the end of last year the govern distribut million of rapid corona viru diagnost test but out of the million binaxnow rapid covid test distribut at least million remain unus these unus diagnost cost the govern an estim million the pile number of unus test are due to a myraid of reason that are mostli due to logist problem and skeptic on the accuraci of the rapid test last year there were argument on whether the test should be use on peopl who had alreadi exhibit symptom or those who hadn t some state offici say they are reluct to use the test regularli becaus they are unsur they will be abl to get a continu suppli for school facililti don t want to use them becaus of the amount of train staff need and regulatori waiver necessari other are concern about inaccur result and are more partial to lab base test', 'iphon can interrupt certain medic devic there are mani implant devic that help patient live one of those implant devic is known as an implant cardiovert defibril icd icd are use to treat cardiac tachyarrhythmia the sensor within it can respond to extern appli magnet field the iphon ha magnet within it that can actual interfer with icd it wa note that when the iphon wa brought into proxim of the icd it suspend all of the icd therapi', 'antimicrobi ald coat via a press releas on picosun talk about safer medic devic due to their antimicrobi ald atom layer deposit coat accord to thi press releas they claim to have shown a reduct in microbi growth they even go as far to say that they had low instanc of bacteri endotoxin contamin not onli do they claim the reduct in microbi growth and low instanc of bacteri endotoxin they also meition the non cytotox of their ald coat these coat refer to both implant and extern medic devic', 'smart ultrasound technolog for incontin care demonstr the interest in consum willing to wearabl tech to monitor health may open the door for innov solut to releas the bladder', 'us democrat s gain narrow margin of control of govern and need to heal the nation by avoid extrem polar mean sweep chang to the afford care act aca will be off the tabl for at least the next two to four year there will be particular momentum for program that have bipartisan support includ payment polici that move away from fee for servic reimburs and toward model that drive lower cost and higher qualiti outcom the overal movement to valu will get a shot in the arm from two princip forc in the biden administr s commit to build on the aca s legaci by doubl down on altern payment model and mandatori payment chang and the pandem', 'covid crisi increas appetit for chang across industri as sponsor contract research org and patient see benefit in decentr model clinic trial are chang for good payer and provid with big data custom metric may be abl to help pharmaceut and life scienc compani develop trial protocol that serv more divers popul these trial could decreas the burden on trial particip for instanc reduc the number of trip they have to make to a hospit or physician s offic and make particip more attract for trial investig likewis a decentr approach with more virtual element could make particip more attract too', 'smart urinari cathet compani formerli spinal singular announc new ceo and move to minneapoli chang it name to urodev mean that the spinal singular smart cather devic might be more develop and difficult to acquir report mention that the compani will be seek more capit so there may be in road', 'd system announc breakthrough in bioprint technolog and expans of regen medicin initi signific progress in the develop of a next gener addit manufactur platform solut for lung scaffold that is capabl of full size vascular rapid micron level print potenti to enabl novel laboratori test method to acceler the develop of new drug therapi while reduc the need for anim test', 'anti microbi coat for urinari cathet current the market is domin by silveralloy and antibiot coat cathet as mention in the eview silver alloy coat have been popular becaus of their wide studi character but they have been found to have less microbi efficaci than antibiot howev the increas usag of antibiot caus antibiot resist and henc new method have been develop to combat these resist microb thi show a greater need for understand the biofilm structur and it mechan so that antimicrobi coat can be design more effici', 'superhydrophob coat for urinari cathet a multilay superhydrophob coat for urinari cathet wa synthes by a layer by layer deposit techniqu a mussel inspir polydopamin coat wa util as a platform for the in situ anchor of silver nanoparticl follow by hydrophob modif with h h h h perfluorodecanethiol compar with commerci all silicon and silver alloy hydrogel cathet the superhydrophob cathet exhibit signific antibiofilm activ in both static and dynam model in an in vitro bladder model bacteri migrat along the outer cathet wa effect delay reduc biomass accumul by up to and compar with all silicon and silver alloy hydrogel cathet', 'smart medic devic medic devic use iot wireless technolog are revolution healthcar smart devic such as wearabl now link patient to doctor transmit critic medic data in real time from hospit bed and privat home as well as mobil equip use at emerg site and in transport vehicl wireless devic implant in the bodi permit patient to be continu monitor to alert health care provid wearabl devic are capabl enough to transmit vital sign data from a patient home to the hospit staff it allow them to have a real time monitor of patient s health these devic use wirelessli connect glucomet scale heart rate urinari cathet meter biosensor and blood pressur monitor', 'robot cathet robot cathet use two steerabl sheath incorpor an ablat cathet the outer and inner sheath are both manipul via a pull wire mechan by a sheath carri a robot arm', 'd print cathet addit manufactur may be use as a form of person medicin in intervent radiolog by allow for the creation of custom bioactiv construct such as cathet that can act as a form of local drug deliveri the purpos of the present in vitro studi wa to use three dimension d print to construct bioactiv laden bioabsorb cathet impregn with antibiot and chemotherapeut', 'condom cathet condom cathet is use for the effect manag of male urinari incontin option avail for sheath user particularli from a sustain point of view steril sheath with lubric surfac are appli onto cathet tube and remov after use thi reduc plastic cathet tube and their packag devic', 'appli ai tool can make system such as ventil more robust and safer most modern ventil are control through a standard algorithm known as pid for continu monitor and adjust a devic the hypothesi is that appli ai tool can improv on these older method', 'first biobas polyurethan hot melt adhes the first biobas polyurethan hot melt adhes ha been approv by intertek and the german institut of standardis din and is one of the most sustain adhes coat on the market as it is compos of renew raw materi thi is a larg step in the right direct for textil compani that use these coat to produc technic textil', 'specialti syring need to extract extra dose of covid vaccin in decemb pharmacist found that they could extract an extra th dose form each vial of the covid vaccin in respons to thi news pfizer plan to decreas the amount of dose roll out to the unit state howev the extra dose come with a caveat they need a specialti syring call a low dead volum syring and there are concern on whether there is enough suppli of these syring to take advantag of the extra th dose onli of the pfizer vaccin kit contain these special syring and manufactur are be pressur to produc as mani as possibl', 'ikea s mission to go climat posit by in the last year ikea ha tri to reduc it s climat footprint by decreas energi use in busi manufactur and even what they serv in the restaur howev these chang onli reduc the climat footprint per product by to reach there goal of they are tri to becom a circular busi by as well as incorport more environment friendli materi they want their product to be reus refurbish recycl and remanufactur into new piec and have launch their first entir secondhand store in sweden last novemb new materi they are look into are lamin veneer lumber lvl a product that is made of multipl thin layer of wood glu togeth it strength is compar to metal in some use case and it cut down on wood consumpt by other materi includ rice straw and textil sourc from wood cellulos', 'new wearabl that monitor chemic physic and electrophysiolog signal simultan uc san deigo s center for wearabl sensor have develop a new flexibl sensor patch that can measur blood pressur deep within the skin it also ha chemic sensor to measur lactat a biomark for physic exert caffein and glucos in interstiti fluid in test it wa show read that close match gold standard medic devic like blood pressur cuff and glucos monitor', 'alginit creat biodegrad textil from kelp algiknit is a biomateri compani that creat yarn from kelp kelp is one of the fastest grow organ in the world and the product made from thi yarn is nontoxi and fulli biodegrad the compani s goal is to creat a textil industri with a close loop cycl through use sustain and renew sourc', 'ibm and microsoft close the gap to mainstream quantum comput recent develop from ibm and microsoft suggest that cloud base enterpris comput may becom mainstream in just a few year the develop from compani like ibm and microsoft illustr how the industri will deliv quantum comput to the enterpris softwar market but a new short film quantum ethic highlight the risk the expert featur in the film warn that societi need to think through the implic of what it mean to solv problem that were previous insolubl and what regulatori framework need to be in place to prevent misus or exploit quantum comput for malici intent', 'quantum physic give brain sens meg scanner a boost novel technolog in healthcar base on fundament physic save million of live everi year but while these machin have revolution medicin the next gener must meet even greater challeng hannah coleman and matt brook are hope that the univers of nottingham s new quantum enabl meg scanner will herald a new dawn in the studi of human brain function', 'isra tech start up special in quantum comput secur mln classiq work in the realm of quantum comput which is use to solv complex problem in scienc medicin machin learn etc classiq solv the issu in quantum softwar develop and creat it own way to develop new one it recent introduc a way to automat translat human defin concept into valid quantum circuit provid the fundament element need to produc quantum algorithm', 'm petrifilm plate reader advanc m ha come out with a devic that can rapidli enumer plate with coloni on them it can imag count and document the coloni on the plate thi autom the count enumer step of test in about second usual plate read can take hour depend on how mani plate there were per test they talk about it in term of food and safeti test but realist it could be use with other type of microbiolog', 'cleanroom cove cleanroom have to be design in specif way in order to cut down on ani type of contamin elimin corner and hard cut on wall will cut down the possibl of biofilm form in the room in those surfac that aren t easi to clean it also improv airflow cove need to be secur in order for it to be worthwhil anoth aspect to consid when cove a cleanroom is the type of materi use there are mani materi that can be use but it is import to note how well they stand up to chemic clean as well as how well they hold up to the atmospher insid of the cleanroom as a whole', 'world microb forum thi wa form between the feder of european microbiolog societi fem and the american societi of microbiolog asm the forum will be held in june and it will be a digit meet bring togeth microbiologist from all over to discuss current topic with thi joint effort there will be more speaker as well as more topic to be cover as well as emerg topic the event sinc they are digit can be view later as well', 'probiot in coronoaviru manag probiot have been wide use around the world the properti of probiot have now shown some promis in manag coronaviru infect the bacteria in probiot have shown the abil to bind to the coronaviru befor it abl to enter cell if the probiot bacteria bind to the surfac of a cell it can prevent coronaviru entri mani probiot bacteria have defens mechan that can help strengthen the probiot bacteria protect it and promot growth of good bacteria insid the bodi these defens mechan can also when mix with mucin from mucos cell inhibit the coronaviru prolifer probiot often elicit a respons from the immun system to help attack virus as well', 'fer rebiotix and mybiot collabor to develop live microbiom base therapeut in reproduct medicin and matern health the collabor aim to creat standardis stabilis live microbiota base formul address bacteri vaginosi bv a common vagin infect among women of reproduct age link to increas risk of miscarriag problem dure pregnanc and fertil issu the compani aim to leverag world lead microbiom technolog expertis to bring new therapeut to thi patient commun and help more peopl build famili', 'chang to gut microbiom help melanoma patient respond to immunotherapi statist model develop by oregon state univers research ha confirm that chang to melanoma patient gut microbiom led them to respond to a type of treatment capabl of provid long term benefit', 'noninvas probe monitor health of friendli gut bacteria the commun of bacteria that live in the gut known as the gut microbiota play a pivot role in ill such as cancer diabet obes depress and inflammatori bowel diseas the aim of probiot and prebiot supplement is to restor a healthi balanc to the microbiom but their effect are difficult to studi research have develop a probe that can measur the activ level of an enzym produc by bacteria that is key to their health promot effect a femal volunt swallow two capsul contain the probe which monitor the microbi health of the entir length of her digest system', 'gut microbiom makeup could impact sever of covid the studi publish earlier thi year in the journal gut build upon previou inquiri into what role the gut may play in patient with covid earlier studi have identifi a measur differ between the microbi composit of the gut of those patient and of peopl who were sick with a cold or the flu', 'explor the relationship between the microbiom and covid our hypothesi is that the health of the microbiom prior to covid infect is a predictor of the sever of covid dr blaser said there s alreadi evid that the microbiom can make a differ we understand how the viru that caus covid sar cov enter cell and the mucosa and the gastrointestin tract and ha to bind to ace receptor molecul on the surfac of these cell can inhibit the bind the bacteria in the mucosa can have enzym that cleav these molecul and thu affect suscept to invas by the viru', 'at cagr of human microbiom market size share growth trend and forecast by top manufactur human microbiom market report is segment on the basi of product type diseas applic and region countri level base on product type global human microbiom market is classifi as probiot prebiot symbiot and other base upon diseas global human microbiom market is classifi into obes diabet autoimmun disord cancer gastrointestin disord central nervou system disord and other base upon applic global human microbiom market is classifi as therapeut and diagnost human microbiom market is valu at usd million in and expect to reach usd million by with the cagr of over the forecast period', 'microbiom to be game changer in immunotherapi one of the most rapidli grow sector in the biopharmaceut industri is microbiom medicin big name tycoon includ bill gate and mark zuckerberg have alreadi notic the potenti of microbiom and either invest or donat money to busi and research in thi field which is quickli evolv into a new money magnet', 'intim link between diet gut microb and health identifi an intern team of scientist found associ between particular bacteri speci and metabol risk factor for condit such as diabet heart diseas and obes they were surpris to discov that the gut microbiota the commun of microorgan live in our intestin wa more strongli associ with a person s risk of certain ill than their genet the research suggest that it could be possibl to creat an individu diet that adjust the commun of organ live in a person s gut to optim the person s health', 'studi infecti gut bacteria may predict uti risk urinari tract infect uti in kidney transplant patient may be caus by bacteria that origin in the digest tract accord to investig at weill cornel medicin cornel univers and newyork presbyterian', 'aua state of the art lectur probiot and microbiota in urolog begin of the end or end of the begin the microbiom and urolog consist of direct contact urinari microbiota includ the urethra bladder kidney and stone semen and more it is a rel new concept that thi system is not steril indirect role gut includ metabol immun regul and act as a uti reservoir', 'mechano bactericid action of nanostructur surfac as we all know antibiot resist is a huge problem we are all face instead of focus on use chemic to attack microb mayb focus on physic properti could help too surfac rough on a nanoscal might help stretch slice or tear the microb apart insect wing were an inspir to thi concept the nanopattern on insect wing can have those stretch slice and tear properti that protect the wing thi could be appli to medic devic to help stop the need for antimicrobi in the futur', 'antimicrobi jacket gray state apparel ha come out with a jacket that help control the microb you come into contact with while out and about it is inlay with a silver that act as a surfac antimicrobi agent elast cuff pocket to hold other item like mask and such plastic zipper anti microbi heiq v block coat silver technolog the antimicrobi aspect of it', 'blockchain technolog and healthcar blockchain technolog allow patient to assign access rule for their medic data for exampl permit specif research to access part of their data for a fix period of time with blockchain technolog patient can connect to other hospit and collect their medic data automat', 'blockchain vehicl for effici medic record manag increas number of healthcar system are develop blockchain base system to manag medic data a blockchain is a decentralis continu grow onlin ledger of record valid by member of the network tradit use to manag cryptocurr record distribut ledger technolog can be appli to variou aspect of healthcar in thi manuscript we focu on how electron medic record in particular can be manag by blockchain and how the introduct of thi novel technolog can creat a more effici and interoper infrastructur to manag record that lead to improv healthcar outcom while maintain patient data ownership and without compromis privaci or secur of sensit data', 'whi effort to curb plastic wast are fail the covid pandem econom declin inequ and race relat and climat chang have collect move the grow plastic wast crisi out of the prioriti inbox to a degre thi is the inevit consequ of limit polit bandwidth to address multipl crise beyond the polit realm there are deep fault line in how busi govern and non govern organ have conceptu and organ plastic wast solut', 'can the microbiom predict parkinson s a studi find that parkinson s diseas is associ with chang in the composit of the gut microbiom in parkinson s diseas the gut bacteria s abil to break down fat is alter make it harder to regul bile acid product disrupt in bile acid product could be a potenti indic of the condit treatment target the microbiom and bile acid may help delay the progress of parkinson s diseas', 'breakthrough studi find age relat cognit declin may be revers a breakthrough studi from a team of neurologist at stanford univers claim to have discov one way immun cell becom dysfunct as we age lead to the inflammatori hyperdr that play a role in most age relat diseas from cancer to cognit declin preliminari studi suggest thi immun dysfunct can be revers point to compel futur anti age therapi', 'studi offer indisput link between alzheim s and gut microbiom research into the relationship between the brain and the bacteria in our belli is uncov link to an increas number of neurolog condit with alzheim s among them a new studi is throw further weight behind the theori that an imbal in the gut microbiom may be relat to the onset of the diseas show how shift in bacteri divers are associ with inflamm and heighten number of amyloid plaqu in the brain one of the hallmark of the condit', 'studi find link between children s gut microbiom and household chemic a team of research for the first time ha found a correl between the level of bacteria and fungi in the gastrointestin tract of children and the amount of common chemic found in their home environ the work publish thi month in environment scienc and technolog letter could lead to better understand of how these semi volatil organ compound may affect human health', 'new skin patch bring us closer to wearabl all in one health monitor new type of wearabl health monitor that can be use to continu track blood pressur and heart rate along with glucos lactat alcohol and caffein level thi devic is much smaller and more flexibl than previou monitor and is still be develop to includ more sensor for monitor other biomark', 'fda appoint first medic devic cybersecur chief fda ha name kevin fu a univers of michigan associ professor to serv a one year term as act director of medic devic cybersecur at the agenc s center for devic and radiolog health the longtim secur advoc and research will serv as an expert in resid and the fda s first medic devic cyber chief in cdrh s offic of strateg partnership and technolog innov hi role also includ an appoint with the digit health center of excel which wa launch in septemb to better coordin polici and regulatori approach tailor for the fast grow technolog', 'self heal devic could power wearabl devic with bodi heat recharg the batteri in activ tracker wearabl heart monitor and smart watch can be annoy thermoelectr gener teg which convert heat into electr could be a way to power such wearabl devic continu by use the person s own bodi heat with a clever combin of materi and design research have now made a highli stretchabl thermoelectr devic that produc enough power for wearabl it could be worn as a ring or armband scienc advanc doi sciadv abe and unlik previous report gener thi one can heal itself if damag and is easi to recycl', 'amazon program let consum decid which devic the compani build next amazon is readi to make it next gadget and it s let consum help choos the tech giant introduc a new program wednesday call build it where amazon will present concept for devic and leav it to shopper to choos whether they want it built by preorder when a concept hit a set preorder goal within day amazon will creat the devic and consum will receiv it at a special price if it doesn t make the goal the product won t get built and shopper won t be charg for the pre order', 'it s rain biotech spac spac are all the rage today with the ipo market boom and public investor seek better return blank check compani call special purpos acquisit compani spac have been fuel up their tank and chase down their merger target new one are get announc everi day includ in biotech so much so that serial entrepreneur mike gilman tweet that it s rain spac a sentiment that captur the frenzi downpour of activ', 'instant replay a power tool for surgeon one of the problem is that surgeon are train much the way skill craftsmen have been for gener in intens apprenticeship via hand on educ but the shortcom of that system are profound reli on one on one train to effect knowledg transfer mean techniqu and procedur tend to be taught inconsist and without the benefit of a survey of best practic surgeon likewis tend to be poorli distribut further knowledg tend to be silo within subspecialti with littl opportun for crossov educ video ha emerg as a key train tool to address some of these dispar and the newer possibl of ai base video analysi ha ad a layer of util to train regiment increasingli base in studi video intraop video footag and by extens video base analys is at the core of surgic innov explain dr tamir wolf ceo and co founder of theator surgeon medic system and forward think profession societi have all come to realiz it potenti valu in enhanc surgic care and patient safeti theator s ai power platform is base on smart annot and video analyt technolog which extract and annot key moment from surgic procedur enabl surgeon to review oper and glean detail insight by identifi the most pivot surgic step event mileston and ultim decis theator s technolog streamlin the pre oper prepar and post oper review and assess process significantli increas surgeon perform effici and product', 'mix realiti surgeri a new step forward in medic innov hololen is a wireless holograph mix realiti headset that connect with app and solut help surgeon to oper with greater precis after seven such surgeri done through the mix realiti method dr babhulkar founder and presid of the shoulder and elbow societi of india is confid of take on two everi month the surgeon howev add that it is a challeng as there is a need to remain still without shake one s head while oper the technolog is fantast even if i so much as shift my gaze or just briefli turn my head i have expert tap my shoulder remot remind me to stay fix not just that but adapt to new technolog can be challeng say dr babhulkar who wa train in thi techniqu and had a dri run last year from juli to octob befor he took on hi first case of a year old woman from goa with a rotat cuff tear', 'senior are be left behind in the digit health revolut even though telemedicin servic among senior ha risen and the number of senior is project to doubl to billion in senior are feel left out of the digit health revolut the senior popul definit ha the most to gain from emerg health app and wearabl but most do not know how to navig the new gadget and smart phone problem such as bad eyesight and low dexter can make use small devic veri difficult other barrier includ afford and lack of tech support', 'invest compani are market climat consciou invest portfolio so what if financi institut recogn the impact of climat chang they are predict the valu and import in invest in compani that recogn the impact of climat chang as well they see they can move the social needl and rais awar', 'how use is recycl realli so what give context and clue on how paradigm for a circular economi are still be built and how we want to posit ourselv in the valu stream', 'rethink the rna hypothesi chimer model for rna to overcom the sticki problem so what veri far into the futur but thi articl tell about how it could be easier to synthes rna without enzym which could have a veri larg impact into differ therapeut modal', 'clubhous anoth social media app bring more dialogu regul social media platform so what it is appar in that in today s world peopl are desper to connect as a compani focus on custom intimaci and connect it rais awar of what thi intimaci and connect mean and how we put that into action where the user experi and acknowledg that intimaci and connect', 'just percent of vaccin have gone to black american despit equiti effort so what if there is difficulti in provid one of the most import mass vaccin to the disenfranchis such that thi is high prioriti are we abl to provid custom intimaci equal amongst all user', 'mass startup metalenz inc to bring flat optic to consum electron and more so what flat optic with impecc control light behavior in a compact system could disrupt digit imagin and sensor technolog incorpor of these new technolog into wearabl could catapult the market due to it ultracompact', 'wield a laser beam deep insid the bodi devic abl to steer a laser beam with high speed and a larg rang of motion could enhanc the possibl of minim invas surgeri so what possibl disrupt technolog in healthcar to aid in minim invast surgeri', 'new social media app club hous is new hype in silicon valley club hous is an invit onli app where friend and stranger hold convers through audio onli user can look through hallway which allow them to drop into room to hear moder and guest talk allow them to eavesdrop on other user tech analyst say that the draw of the app is the serendip you never know who you will stumbl upon million peopl in the us have download the app sinc march and celebr like oprah winfrey drake and elon musk are are on board', 'drizli ha join the uber famili for alcohol deliveri uber ha chang it s tactic as the pandem ha decreas ride share book by instead of deliv peopl they have pivot to deliv thing drizli the alcohol deliveri servic ha recent join uber alcohol deliveri provid higher profit margin for driver but mani are reluct to take on these request thi is becaus alcohol deliveri is a major liabil for the driver becaus of concern over underag drinker in respons to these concern uber is plan on ad age verif technolog onto custom buy alcohol', 'gut bacteria boost cancer immunotherapi immunotherapi is a form of cancer treatment util the individu s own immun system to fight cancer cell howev respons to thi therapi is vari and studi suggest some variat may be a result of the certain bacteria found in the gut research were abl to studi sever type of bacteria and their impact on treatment of tumor leverag their find scientist hope to increas efficaci of immunotherapi', 'big tech build despit work from home massiv growth in employe headcount mean big tech compani can not afford to loos out on physic space in facebook ad new employe and alphabet ad even though worker are a home right now mani are eager to return back to in person offic mark zuckerberg say that transit to remot work will take year for now big tech compani still valu face to face collabor and expect to return to normal', 'cancer microbiom atla research have creat a databas to log the presenc of microb found in intern organ thi help identifi possibl contamin found in sampl as it ha been difficult to determin microb found in small amount as contamin or sign of cancer', 'scribe ai want to help user rememb better by augment memori the compani new product is an a zoom add on which will act as the scribe for the meet take note and log of what peopl say and what they look like when they say it these data will be avail for user to find relev clip of convers or part of document accord to the founder thi add on is suppos to act like a person staff member whisper in your ear of cours as will all record technolog there are alway privaci concern and it give user a layer of vulner against hacker there are also concern that user would be abl to edit their memori therefor potenti to alter histori and record to support deep fake despit these concern scribe ha a strong list of investor from leader at facebook googl and y combin', 'microbiom and male infertil a studi wa conduct to compar the presenc of differ bacteria taken from gut semen and urin of the men who are infertil and men with proven patern while thi research is still ongo result indic distinct profil for each respect group thi develop knowledg will hope be use for the diagnosi and treatment of infertil', 'some onlin food shopper s can be nudg to make healthier choic in a uk studi onlin shopper were present with lower calori altern when a high calori item wa put in the basket these altern were healthier and rel the same cost the averag shopper wa offer three swap and of those swap were accept how the swap were present whether they underscor the health benefit or the cost benefit didn t affect outcom', 'new ball point pen to draw circuit on skin flexibl electron have been use print electron ink to print onto surfac howev thi ink is expens and doesn t work on all surfac a new clog free ball point pen will allow user the potenti to draw on circuit directli onto skin', 'development origin of eczem and psoriasi discov the skin cell atla reveal specif molecular signal sent by healthi develop skin to summon immun cell and form a protect layer we were amaz to see that eczema and psoriasi skin cell were send the same molecular signal which could over activ immun cell and caus the diseas thi had never been seen befor discov that develop cell pathway re emerg is a huge leap in our understand of inflammatori skin diseas and offer new rout for find treatment', 'eth crypto hit high number of coin held on exchang declin by to million in past three month it show investor are either take direct custodi of coin or stake them into decentr financ protocol creat a sell side liquid shortag in the long run the eth ralli would keep go as long as eth hold in all exchang are decreas ki young ju ceo of cryptoqu told coindesk', 'gener q as a wildcard mesko state a child who is now year old ha spent one tenth of hi her life in quarantin away from grandpar friend school sport and other activ the fear implant by the viru are go to be so embed into thi young gener we can t even begin to think about how it will turn out when they grow up will they be more fear less independ less brave or right the opposit will they becom more resili studi are in the make but what is certain is that thi gener ha way too much on their shoulder or doe thi gener q display less relianc on government safeti net drive independ in food sourc live off the grid and abandon norm like tradit higher educ']\n"
          ]
        }
      ]
    },
    {
      "cell_type": "code",
      "metadata": {
        "id": "zn78vO0ZoUHu"
      },
      "source": [
        "df['cleaned_text'] = stemmed_text"
      ],
      "execution_count": 8,
      "outputs": []
    },
    {
      "cell_type": "markdown",
      "metadata": {
        "id": "5WDoaNQamvow"
      },
      "source": [
        "### create dependent variable"
      ]
    },
    {
      "cell_type": "code",
      "metadata": {
        "id": "mPYoeRchmy1r"
      },
      "source": [
        "# load hunch data and count clue frequency\n",
        "hunch = pd.read_excel('drive/MyDrive/Hollister Confidential-Futurism 2021 - DeDuplication Tool v01c (1).xlsx', sheet_name='Hunches')\n",
        "hunch[['Clue1', 'Clue2','Clue3', 'Clue4','Clue5']] = hunch[['Clue1', 'Clue2','Clue3', 'Clue4','Clue5']].fillna(0).astype(int)\n",
        "all_clue = pd.concat([hunch['Clue1'],hunch['Clue2'], hunch['Clue3'], hunch['Clue4'], hunch['Clue5']], ignore_index=True)\n",
        "clue_frequency = all_clue.value_counts()"
      ],
      "execution_count": 9,
      "outputs": []
    },
    {
      "cell_type": "code",
      "metadata": {
        "id": "rF0TffSqnCgz"
      },
      "source": [
        "del clue_frequency[0]\n",
        "clue_frequency = pd.DataFrame(clue_frequency, columns= ['frequency'])\n",
        "clue_frequency['id'] = clue_frequency.index"
      ],
      "execution_count": 10,
      "outputs": []
    },
    {
      "cell_type": "code",
      "metadata": {
        "id": "qh_QMJT1nILR"
      },
      "source": [
        "# fill un-used clue with 0\n",
        "df = df.merge(clue_frequency, how = 'left', on = 'id')\n",
        "df['frequency'] = df['frequency'].fillna(0).astype(int)"
      ],
      "execution_count": 11,
      "outputs": []
    },
    {
      "cell_type": "code",
      "metadata": {
        "colab": {
          "base_uri": "https://localhost:8080/",
          "height": 874
        },
        "id": "aCJPDtCPnPdK",
        "outputId": "20dd1485-6ad2-414d-8bec-60b6a19e7372"
      },
      "source": [
        "pd.options.display.max_colwidth = 2000\n",
        "# take a look at the most used clues\n",
        "most_clue = df[['cleaned_text','frequency','Lens']][df['frequency'] >= 5]\n",
        "most_clue"
      ],
      "execution_count": 12,
      "outputs": [
        {
          "output_type": "execute_result",
          "data": {
            "text/html": [
              "<div>\n",
              "<style scoped>\n",
              "    .dataframe tbody tr th:only-of-type {\n",
              "        vertical-align: middle;\n",
              "    }\n",
              "\n",
              "    .dataframe tbody tr th {\n",
              "        vertical-align: top;\n",
              "    }\n",
              "\n",
              "    .dataframe thead th {\n",
              "        text-align: right;\n",
              "    }\n",
              "</style>\n",
              "<table border=\"1\" class=\"dataframe\">\n",
              "  <thead>\n",
              "    <tr style=\"text-align: right;\">\n",
              "      <th></th>\n",
              "      <th>cleaned_text</th>\n",
              "      <th>frequency</th>\n",
              "      <th>Lens</th>\n",
              "    </tr>\n",
              "  </thead>\n",
              "  <tbody>\n",
              "    <tr>\n",
              "      <th>48</th>\n",
              "      <td>amazon is disrupt the healthcar industri amazon care amazon is disrupt the healthcar industri in multipl way as an onlin pharmaci by sell medic product and as a digit enabl of of healthcar amazon launch a virtual primari care clinic call amazon care the latest sign of the giant retail s grow ambit in healthcar amazon care includ video and text visit with clinician as well as in home care the program is describ as a new benefit for employe of the compani and is a pilot project in the seattl area amazon ha been expand in healthcar and separ partner with jpmorgan and berkshir hathaway on an effort to improv care for their worker call haven in june amazon acquir the onlin pharmaci pillpack for million with it disrupt network and smart technolog they could be a major disruptor</td>\n",
              "      <td>5</td>\n",
              "      <td>Social</td>\n",
              "    </tr>\n",
              "    <tr>\n",
              "      <th>81</th>\n",
              "      <td>eu lawmak call for target to reduc raw materi use lawmak in the european parliament s environ committe will call for legal bind target to reduc raw materi use in a report due to be vote on thi week the vote on tuesday januari will shape the parliament s respons to the european commiss s circular economi action plan present in march last year tighter wast and recycl law are central to the commiss s plan with new target due to be present thi year as part of a broader revis of eu wast rule in their report mep call on the european commiss to propos scienc base bind eu mid term and long term target for the reduct in the use of primari raw materi in manufactur industri to achiev thi they call for a back cast approach to ensur that polici object are on a credibl path to achiev a carbon neutral and fulli circular economi within planetari boundari by at the latest hollist is current in teh medic consum busi and could find itself in jeopardi if or when thi legisl will come into play</td>\n",
              "      <td>8</td>\n",
              "      <td>Political</td>\n",
              "    </tr>\n",
              "    <tr>\n",
              "      <th>93</th>\n",
              "      <td>amazon offer to assist biden administr with covid vaccin distribut and logist may give amazon a privat compani a valuabl new trove of health data as it is expand into pharmaci and digit health potenti suppli chain disrupt in futur amazon s bid come as biden offici say they re tri to repair the vaccin distribut system they inherit could help the compani boost it own ambit of expand into the trillion health care marketplac amazon might use ani feder agreement to push it own corpor advantag becaus they re veri well known as a compani to tri to liter domin the market and forc out ani competit</td>\n",
              "      <td>5</td>\n",
              "      <td>Political</td>\n",
              "    </tr>\n",
              "    <tr>\n",
              "      <th>122</th>\n",
              "      <td>in the next year we ll reinvent everi industri in the next decad we ll experi more progress than in the past year whi comput is the foundat be it classic or quantum comput as it becom faster and cheaper lot of technolog that use it also becom more capabl for exampl commun network sensor robot augment and virtual realiti blockchain and ai are all exponenti improv but they are also be interweav and converg for exampl ai with robot and that s get even faster becaus the number of peopl with access to technolog is increas so we are abl to solv more problem there s also more capit avail than ever befor which mean more crazi idea be fund which in turn lead to more breakthrough and the cost of do thing is also get cheaper the number of experi go on in the silicon valley garag is explod</td>\n",
              "      <td>6</td>\n",
              "      <td>Economical</td>\n",
              "    </tr>\n",
              "    <tr>\n",
              "      <th>123</th>\n",
              "      <td>musk launch hunt for carbon neg not neutral technolog with m xprize vc s capit solv the climat crisi could they do the same to help startup with the typic barrier to entri into medic devic develop</td>\n",
              "      <td>5</td>\n",
              "      <td>Economical</td>\n",
              "    </tr>\n",
              "    <tr>\n",
              "      <th>139</th>\n",
              "      <td>algorithm will run machin not human underperform sensor commun and algorithm unintent cyber safeti or deliber manipul cyber secur are the princip sourc of the new risk in addit there is the increas complex of softwar system multipli in uncertainti by machin learn and ai base system</td>\n",
              "      <td>5</td>\n",
              "      <td>Technological</td>\n",
              "    </tr>\n",
              "    <tr>\n",
              "      <th>157</th>\n",
              "      <td>antimicrobi packag there are a few essenti oil that can actual possess antimicrobi properti one of these essenti oil is orang peel essenti oil it is use to produc antimicrobi film and coat orang juic process wast as a powder can be an antimicrobi agent orang juic process wast is cost effect and less time consum as an agent for antimicrobi properti mix with plastic it show high efficaci against microorgan</td>\n",
              "      <td>5</td>\n",
              "      <td>Environmental</td>\n",
              "    </tr>\n",
              "    <tr>\n",
              "      <th>167</th>\n",
              "      <td>anti microbi coat for urinari cathet current the market is domin by silveralloy and antibiot coat cathet as mention in the eview silver alloy coat have been popular becaus of their wide studi character but they have been found to have less microbi efficaci than antibiot howev the increas usag of antibiot caus antibiot resist and henc new method have been develop to combat these resist microb thi show a greater need for understand the biofilm structur and it mechan so that antimicrobi coat can be design more effici</td>\n",
              "      <td>5</td>\n",
              "      <td>Technological</td>\n",
              "    </tr>\n",
              "    <tr>\n",
              "      <th>171</th>\n",
              "      <td>d print cathet addit manufactur may be use as a form of person medicin in intervent radiolog by allow for the creation of custom bioactiv construct such as cathet that can act as a form of local drug deliveri the purpos of the present in vitro studi wa to use three dimension d print to construct bioactiv laden bioabsorb cathet impregn with antibiot and chemotherapeut</td>\n",
              "      <td>6</td>\n",
              "      <td>Technological</td>\n",
              "    </tr>\n",
              "    <tr>\n",
              "      <th>176</th>\n",
              "      <td>ikea s mission to go climat posit by in the last year ikea ha tri to reduc it s climat footprint by decreas energi use in busi manufactur and even what they serv in the restaur howev these chang onli reduc the climat footprint per product by to reach there goal of they are tri to becom a circular busi by as well as incorport more environment friendli materi they want their product to be reus refurbish recycl and remanufactur into new piec and have launch their first entir secondhand store in sweden last novemb new materi they are look into are lamin veneer lumber lvl a product that is made of multipl thin layer of wood glu togeth it strength is compar to metal in some use case and it cut down on wood consumpt by other materi includ rice straw and textil sourc from wood cellulos</td>\n",
              "      <td>6</td>\n",
              "      <td>Environmental</td>\n",
              "    </tr>\n",
              "    <tr>\n",
              "      <th>192</th>\n",
              "      <td>microbiom to be game changer in immunotherapi one of the most rapidli grow sector in the biopharmaceut industri is microbiom medicin big name tycoon includ bill gate and mark zuckerberg have alreadi notic the potenti of microbiom and either invest or donat money to busi and research in thi field which is quickli evolv into a new money magnet</td>\n",
              "      <td>5</td>\n",
              "      <td>Economical</td>\n",
              "    </tr>\n",
              "    <tr>\n",
              "      <th>193</th>\n",
              "      <td>intim link between diet gut microb and health identifi an intern team of scientist found associ between particular bacteri speci and metabol risk factor for condit such as diabet heart diseas and obes they were surpris to discov that the gut microbiota the commun of microorgan live in our intestin wa more strongli associ with a person s risk of certain ill than their genet the research suggest that it could be possibl to creat an individu diet that adjust the commun of organ live in a person s gut to optim the person s health</td>\n",
              "      <td>6</td>\n",
              "      <td>Technological</td>\n",
              "    </tr>\n",
              "    <tr>\n",
              "      <th>206</th>\n",
              "      <td>fda appoint first medic devic cybersecur chief fda ha name kevin fu a univers of michigan associ professor to serv a one year term as act director of medic devic cybersecur at the agenc s center for devic and radiolog health the longtim secur advoc and research will serv as an expert in resid and the fda s first medic devic cyber chief in cdrh s offic of strateg partnership and technolog innov hi role also includ an appoint with the digit health center of excel which wa launch in septemb to better coordin polici and regulatori approach tailor for the fast grow technolog</td>\n",
              "      <td>5</td>\n",
              "      <td>Legal</td>\n",
              "    </tr>\n",
              "  </tbody>\n",
              "</table>\n",
              "</div>"
            ],
            "text/plain": [
              "                                                                                                                                                                                                                                                                                                                                                                                                                                                                                                                                                                                                                                                                                                                                                                                                                                                                                                                                                                                                                    cleaned_text  ...           Lens\n",
              "48                                                                                                                                                                                                                amazon is disrupt the healthcar industri amazon care amazon is disrupt the healthcar industri in multipl way as an onlin pharmaci by sell medic product and as a digit enabl of of healthcar amazon launch a virtual primari care clinic call amazon care the latest sign of the giant retail s grow ambit in healthcar amazon care includ video and text visit with clinician as well as in home care the program is describ as a new benefit for employe of the compani and is a pilot project in the seattl area amazon ha been expand in healthcar and separ partner with jpmorgan and berkshir hathaway on an effort to improv care for their worker call haven in june amazon acquir the onlin pharmaci pillpack for million with it disrupt network and smart technolog they could be a major disruptor  ...         Social\n",
              "81   eu lawmak call for target to reduc raw materi use lawmak in the european parliament s environ committe will call for legal bind target to reduc raw materi use in a report due to be vote on thi week the vote on tuesday januari will shape the parliament s respons to the european commiss s circular economi action plan present in march last year tighter wast and recycl law are central to the commiss s plan with new target due to be present thi year as part of a broader revis of eu wast rule in their report mep call on the european commiss to propos scienc base bind eu mid term and long term target for the reduct in the use of primari raw materi in manufactur industri to achiev thi they call for a back cast approach to ensur that polici object are on a credibl path to achiev a carbon neutral and fulli circular economi within planetari boundari by at the latest hollist is current in teh medic consum busi and could find itself in jeopardi if or when thi legisl will come into play  ...      Political\n",
              "93                                                                                                                                                                                                                                                                                                                                                                                                           amazon offer to assist biden administr with covid vaccin distribut and logist may give amazon a privat compani a valuabl new trove of health data as it is expand into pharmaci and digit health potenti suppli chain disrupt in futur amazon s bid come as biden offici say they re tri to repair the vaccin distribut system they inherit could help the compani boost it own ambit of expand into the trillion health care marketplac amazon might use ani feder agreement to push it own corpor advantag becaus they re veri well known as a compani to tri to liter domin the market and forc out ani competit  ...      Political\n",
              "122                                                                                                                                                                                                         in the next year we ll reinvent everi industri in the next decad we ll experi more progress than in the past year whi comput is the foundat be it classic or quantum comput as it becom faster and cheaper lot of technolog that use it also becom more capabl for exampl commun network sensor robot augment and virtual realiti blockchain and ai are all exponenti improv but they are also be interweav and converg for exampl ai with robot and that s get even faster becaus the number of peopl with access to technolog is increas so we are abl to solv more problem there s also more capit avail than ever befor which mean more crazi idea be fund which in turn lead to more breakthrough and the cost of do thing is also get cheaper the number of experi go on in the silicon valley garag is explod  ...     Economical\n",
              "123                                                                                                                                                                                                                                                                                                                                                                                                                                                                                                                                                                                                                                                                                                                                                                                                                         musk launch hunt for carbon neg not neutral technolog with m xprize vc s capit solv the climat crisi could they do the same to help startup with the typic barrier to entri into medic devic develop  ...     Economical\n",
              "139                                                                                                                                                                                                                                                                                                                                                                                                                                                                                                                                                                                                                                                                                                                                   algorithm will run machin not human underperform sensor commun and algorithm unintent cyber safeti or deliber manipul cyber secur are the princip sourc of the new risk in addit there is the increas complex of softwar system multipli in uncertainti by machin learn and ai base system  ...  Technological\n",
              "157                                                                                                                                                                                                                                                                                                                                                                                                                                                                                                                                                                                                      antimicrobi packag there are a few essenti oil that can actual possess antimicrobi properti one of these essenti oil is orang peel essenti oil it is use to produc antimicrobi film and coat orang juic process wast as a powder can be an antimicrobi agent orang juic process wast is cost effect and less time consum as an agent for antimicrobi properti mix with plastic it show high efficaci against microorgan  ...  Environmental\n",
              "167                                                                                                                                                                                                                                                                                                                                                                                                                                                                                      anti microbi coat for urinari cathet current the market is domin by silveralloy and antibiot coat cathet as mention in the eview silver alloy coat have been popular becaus of their wide studi character but they have been found to have less microbi efficaci than antibiot howev the increas usag of antibiot caus antibiot resist and henc new method have been develop to combat these resist microb thi show a greater need for understand the biofilm structur and it mechan so that antimicrobi coat can be design more effici  ...  Technological\n",
              "171                                                                                                                                                                                                                                                                                                                                                                                                                                                                                                                                                                                                                                            d print cathet addit manufactur may be use as a form of person medicin in intervent radiolog by allow for the creation of custom bioactiv construct such as cathet that can act as a form of local drug deliveri the purpos of the present in vitro studi wa to use three dimension d print to construct bioactiv laden bioabsorb cathet impregn with antibiot and chemotherapeut  ...  Technological\n",
              "176                                                                                                                                                                                                         ikea s mission to go climat posit by in the last year ikea ha tri to reduc it s climat footprint by decreas energi use in busi manufactur and even what they serv in the restaur howev these chang onli reduc the climat footprint per product by to reach there goal of they are tri to becom a circular busi by as well as incorport more environment friendli materi they want their product to be reus refurbish recycl and remanufactur into new piec and have launch their first entir secondhand store in sweden last novemb new materi they are look into are lamin veneer lumber lvl a product that is made of multipl thin layer of wood glu togeth it strength is compar to metal in some use case and it cut down on wood consumpt by other materi includ rice straw and textil sourc from wood cellulos  ...  Environmental\n",
              "192                                                                                                                                                                                                                                                                                                                                                                                                                                                                                                                                                                                                                                                                      microbiom to be game changer in immunotherapi one of the most rapidli grow sector in the biopharmaceut industri is microbiom medicin big name tycoon includ bill gate and mark zuckerberg have alreadi notic the potenti of microbiom and either invest or donat money to busi and research in thi field which is quickli evolv into a new money magnet  ...     Economical\n",
              "193                                                                                                                                                                                                                                                                                                                                                                                                                                                                          intim link between diet gut microb and health identifi an intern team of scientist found associ between particular bacteri speci and metabol risk factor for condit such as diabet heart diseas and obes they were surpris to discov that the gut microbiota the commun of microorgan live in our intestin wa more strongli associ with a person s risk of certain ill than their genet the research suggest that it could be possibl to creat an individu diet that adjust the commun of organ live in a person s gut to optim the person s health  ...  Technological\n",
              "206                                                                                                                                                                                                                                                                                                                                                                                                                             fda appoint first medic devic cybersecur chief fda ha name kevin fu a univers of michigan associ professor to serv a one year term as act director of medic devic cybersecur at the agenc s center for devic and radiolog health the longtim secur advoc and research will serv as an expert in resid and the fda s first medic devic cyber chief in cdrh s offic of strateg partnership and technolog innov hi role also includ an appoint with the digit health center of excel which wa launch in septemb to better coordin polici and regulatori approach tailor for the fast grow technolog  ...          Legal\n",
              "\n",
              "[13 rows x 3 columns]"
            ]
          },
          "metadata": {},
          "execution_count": 12
        }
      ]
    },
    {
      "cell_type": "code",
      "metadata": {
        "colab": {
          "base_uri": "https://localhost:8080/"
        },
        "id": "eShJfVx0opl8",
        "outputId": "f493c877-d01a-486f-9d46-a43cc1852e70"
      },
      "source": [
        "df['Lens'].value_counts()"
      ],
      "execution_count": 13,
      "outputs": [
        {
          "output_type": "execute_result",
          "data": {
            "text/plain": [
              "Technological    128\n",
              "Social            42\n",
              "Environmental     29\n",
              "Economical        18\n",
              "Political          9\n",
              "Legal              5\n",
              "Societal           1\n",
              "Name: Lens, dtype: int64"
            ]
          },
          "metadata": {},
          "execution_count": 13
        }
      ]
    },
    {
      "cell_type": "markdown",
      "metadata": {
        "id": "K2WEyazTp27c"
      },
      "source": [
        "### train test split"
      ]
    },
    {
      "cell_type": "code",
      "metadata": {
        "id": "bOZ9mIvLyPqJ"
      },
      "source": [
        "df['multi_frequency'] = df['frequency'].copy()\n",
        "df['binary_frequency'] = np.where(df['frequency'] > 0, 1, 0)"
      ],
      "execution_count": 14,
      "outputs": []
    },
    {
      "cell_type": "code",
      "metadata": {
        "colab": {
          "base_uri": "https://localhost:8080/",
          "height": 424
        },
        "id": "ghqs6DWHzOjE",
        "outputId": "db765689-ea88-4821-fb91-825d12335967"
      },
      "source": [
        "df[['binary_frequency', 'multi_frequency']]"
      ],
      "execution_count": 15,
      "outputs": [
        {
          "output_type": "execute_result",
          "data": {
            "text/html": [
              "<div>\n",
              "<style scoped>\n",
              "    .dataframe tbody tr th:only-of-type {\n",
              "        vertical-align: middle;\n",
              "    }\n",
              "\n",
              "    .dataframe tbody tr th {\n",
              "        vertical-align: top;\n",
              "    }\n",
              "\n",
              "    .dataframe thead th {\n",
              "        text-align: right;\n",
              "    }\n",
              "</style>\n",
              "<table border=\"1\" class=\"dataframe\">\n",
              "  <thead>\n",
              "    <tr style=\"text-align: right;\">\n",
              "      <th></th>\n",
              "      <th>binary_frequency</th>\n",
              "      <th>multi_frequency</th>\n",
              "    </tr>\n",
              "  </thead>\n",
              "  <tbody>\n",
              "    <tr>\n",
              "      <th>0</th>\n",
              "      <td>0</td>\n",
              "      <td>0</td>\n",
              "    </tr>\n",
              "    <tr>\n",
              "      <th>1</th>\n",
              "      <td>0</td>\n",
              "      <td>0</td>\n",
              "    </tr>\n",
              "    <tr>\n",
              "      <th>2</th>\n",
              "      <td>0</td>\n",
              "      <td>0</td>\n",
              "    </tr>\n",
              "    <tr>\n",
              "      <th>3</th>\n",
              "      <td>1</td>\n",
              "      <td>2</td>\n",
              "    </tr>\n",
              "    <tr>\n",
              "      <th>4</th>\n",
              "      <td>1</td>\n",
              "      <td>1</td>\n",
              "    </tr>\n",
              "    <tr>\n",
              "      <th>...</th>\n",
              "      <td>...</td>\n",
              "      <td>...</td>\n",
              "    </tr>\n",
              "    <tr>\n",
              "      <th>227</th>\n",
              "      <td>1</td>\n",
              "      <td>1</td>\n",
              "    </tr>\n",
              "    <tr>\n",
              "      <th>228</th>\n",
              "      <td>1</td>\n",
              "      <td>1</td>\n",
              "    </tr>\n",
              "    <tr>\n",
              "      <th>229</th>\n",
              "      <td>1</td>\n",
              "      <td>1</td>\n",
              "    </tr>\n",
              "    <tr>\n",
              "      <th>230</th>\n",
              "      <td>0</td>\n",
              "      <td>0</td>\n",
              "    </tr>\n",
              "    <tr>\n",
              "      <th>231</th>\n",
              "      <td>1</td>\n",
              "      <td>3</td>\n",
              "    </tr>\n",
              "  </tbody>\n",
              "</table>\n",
              "<p>232 rows × 2 columns</p>\n",
              "</div>"
            ],
            "text/plain": [
              "     binary_frequency  multi_frequency\n",
              "0                   0                0\n",
              "1                   0                0\n",
              "2                   0                0\n",
              "3                   1                2\n",
              "4                   1                1\n",
              "..                ...              ...\n",
              "227                 1                1\n",
              "228                 1                1\n",
              "229                 1                1\n",
              "230                 0                0\n",
              "231                 1                3\n",
              "\n",
              "[232 rows x 2 columns]"
            ]
          },
          "metadata": {},
          "execution_count": 15
        }
      ]
    },
    {
      "cell_type": "code",
      "metadata": {
        "id": "ujCGXaYrp5T8"
      },
      "source": [
        "X_train_bi, X_test_bi, y_train_bi, y_test_bi = train_test_split(df['cleaned_text'], df['binary_frequency'], test_size=0.3, random_state=42, stratify=df['binary_frequency'])\n",
        "X_train_multi, X_test_multi, y_train_multi, y_test_multi = train_test_split(df['cleaned_text'], df['multi_frequency'], test_size=0.3, random_state=42)"
      ],
      "execution_count": 16,
      "outputs": []
    },
    {
      "cell_type": "code",
      "metadata": {
        "id": "-qG7O8oBDNq-"
      },
      "source": [
        "# manually create 3-fold cross validation data\n",
        "X_1, X_2, X_3 = np.split(df['cleaned_text'].sample(frac=1, random_state=42), [int(.33*len(df['binary_frequency'])), int(.66*len(df['binary_frequency']))])\n",
        "Y_1, Y_2, Y_3 = np.split(df['binary_frequency'].sample(frac=1, random_state=42), [int(.33*len(df['binary_frequency'])), int(.66*len(df['binary_frequency']))])\n",
        "X_train1 = pd.concat([X_1, X_2])\n",
        "Y_train1 = pd.concat([Y_1,Y_2])\n",
        "X_test1 = X_3 \n",
        "Y_test1 = Y_3 \n",
        "X_train2 = pd.concat([X_1,X_3])\n",
        "Y_train2 = pd.concat([Y_1,Y_3])\n",
        "X_test2 = X_2 \n",
        "Y_test2 = Y_2 \n",
        "X_train3 = pd.concat([X_2,X_3])\n",
        "Y_train3 = pd.concat([Y_2,Y_3])\n",
        "X_test3 = X_1\n",
        "Y_test3 = Y_1"
      ],
      "execution_count": 17,
      "outputs": []
    },
    {
      "cell_type": "markdown",
      "metadata": {
        "id": "MkKXEDb9ql9C"
      },
      "source": [
        "### text classification\n",
        "\n",
        "Here we try out three methods for the bi-frequency output:    \n",
        "1. Bag of words\n",
        "2. Word2vec\n",
        "3. BERT/XLNet/RoBERTa"
      ]
    },
    {
      "cell_type": "markdown",
      "metadata": {
        "id": "EO_CbrZieE5j"
      },
      "source": [
        "1. Bag of words"
      ]
    },
    {
      "cell_type": "code",
      "metadata": {
        "id": "w3GNibG4tVc0"
      },
      "source": [
        "def bow_model(x_train, x_test, y_train, y_test, n1, n2, analyzer = 'word', norm = 'l2',cutoff = 0.5, use_idf=True, model = 'MultinomialNB', multi_class = False):\n",
        "  count_vec = CountVectorizer(ngram_range=(n1, n2), stop_words='english', analyzer= analyzer)\n",
        "  bow_count = count_vec.fit_transform(x_train)\n",
        "  tf_transformer = TfidfTransformer(norm = norm, use_idf = use_idf).fit(bow_count)\n",
        "  bow = tf_transformer.transform(bow_count)\n",
        "  \n",
        "  if model == 'MultinomialNB' and multi_class == False:\n",
        "    clf = MultinomialNB().fit(bow, y_train)\n",
        "    X_new_counts = count_vec.transform(x_test)\n",
        "    X_new_tfidf = tf_transformer.transform(X_new_counts)\n",
        "    confidence = clf.predict_proba(X_new_tfidf)\n",
        "    predicted = [item[0] for item in np.where(confidence>cutoff,0,1)]\n",
        "    #return y_test, predicted, confidence\n",
        "\n",
        "  if model == 'LogisticRegression' and multi_class == False:\n",
        "    clf = LogisticRegression().fit(bow, y_train)\n",
        "    X_new_counts = count_vec.transform(x_test)\n",
        "    X_new_tfidf = tf_transformer.transform(X_new_counts)\n",
        "    confidence = clf.predict_proba(X_new_tfidf)\n",
        "    predicted = [item[0] for item in np.where(confidence>cutoff,0,1)]\n",
        "   # return y_test, predicted, confidence\n",
        "\n",
        "  if model == 'SGDClassifier' and multi_class == False:\n",
        "    clf = SGDClassifier(loss='modified_huber', penalty='l2', alpha=1e-3, random_state=42, max_iter=5, tol=None).fit(bow, y_train)\n",
        "    X_new_counts = count_vec.transform(x_test)\n",
        "    X_new_tfidf = tf_transformer.transform(X_new_counts)\n",
        "    confidence = clf.predict_proba(X_new_tfidf)\n",
        "    predicted = clf.predict(X_new_tfidf)\n",
        "  #  return y_test, predicted, confidence\n",
        "\n",
        "  micro_precision, micro_recall, micro_f1, support1 = precision_recall_fscore_support(y_test, predicted, average='micro')\n",
        "  macro_precision, macro_recall, macro_f1, support2 = precision_recall_fscore_support(y_test, predicted, average='macro')\n",
        "\n",
        "  return micro_precision, macro_precision, micro_recall, macro_recall, micro_f1, macro_f1, predicted, confidence"
      ],
      "execution_count": 18,
      "outputs": []
    },
    {
      "cell_type": "code",
      "metadata": {
        "colab": {
          "base_uri": "https://localhost:8080/"
        },
        "id": "7Q7ojBnbr3RD",
        "outputId": "5ece2ae1-a0a6-4b3d-a825-88385c1b8257"
      },
      "source": [
        "bow_summary_table = pd.DataFrame(index=['model', 'norm', 'analyzer', 'ngram1', 'ngram2', 'micro_precision', 'macro_precision', 'micro_recall', 'macro_recall', 'micro_f1', 'macro_f1'])\n",
        "i = 0\n",
        "#prediction example\n",
        "for n2 in (1,2):\n",
        "  for analyzer in ['word', 'char']:\n",
        "    for norm in ['l1', 'l2']:\n",
        "      for model in ['MultinomialNB', 'LogisticRegression', 'SGDClassifier']:\n",
        "        i = i + 1\n",
        "        model_name = 'model' + str(i)\n",
        "        micro_precision1, macro_precision1, micro_recall1, macro_recall1, micro_f11, macro_f11, predicted, confidence = bow_model(X_train1, X_test1, Y_train1, Y_test1, model = model, n1 = 1, n2 = n2, analyzer = analyzer, norm = norm, cutoff = 0.33)\n",
        "        micro_precision2, macro_precision2, micro_recall2, macro_recall2, micro_f12, macro_f12, predicted, confidence = bow_model(X_train2, X_test2, Y_train2, Y_test2, model = model, n1 = 1, n2 = n2, analyzer = analyzer, norm = norm, cutoff = 0.33)\n",
        "        micro_precision3, macro_precision3, micro_recall3, macro_recall3, micro_f13, macro_f13, predicted, confidence = bow_model(X_train1, X_test1, Y_train1, Y_test1, model = model, n1 = 1, n2 = n2, analyzer = analyzer, norm = norm, cutoff = 0.33)\n",
        "       \n",
        "        bow_summary_table[model_name] = [model, norm, analyzer, '1', n2,(micro_precision1+micro_precision2+micro_precision3)/3, (macro_precision1+macro_precision2+macro_precision3)/3, (micro_recall1+micro_recall2+micro_recall3)/3 , (macro_recall1+macro_recall2+macro_recall3)/3, (micro_f11+micro_f12+micro_f13)/3 , (macro_f11+macro_f12+macro_f13)/3]\n"
      ],
      "execution_count": 19,
      "outputs": [
        {
          "output_type": "stream",
          "name": "stderr",
          "text": [
            "/usr/local/lib/python3.7/dist-packages/sklearn/metrics/_classification.py:1308: UndefinedMetricWarning: Precision and F-score are ill-defined and being set to 0.0 in labels with no predicted samples. Use `zero_division` parameter to control this behavior.\n",
            "  _warn_prf(average, modifier, msg_start, len(result))\n",
            "/usr/local/lib/python3.7/dist-packages/sklearn/metrics/_classification.py:1308: UndefinedMetricWarning: Precision and F-score are ill-defined and being set to 0.0 in labels with no predicted samples. Use `zero_division` parameter to control this behavior.\n",
            "  _warn_prf(average, modifier, msg_start, len(result))\n",
            "/usr/local/lib/python3.7/dist-packages/sklearn/metrics/_classification.py:1308: UndefinedMetricWarning: Precision and F-score are ill-defined and being set to 0.0 in labels with no predicted samples. Use `zero_division` parameter to control this behavior.\n",
            "  _warn_prf(average, modifier, msg_start, len(result))\n",
            "/usr/local/lib/python3.7/dist-packages/sklearn/metrics/_classification.py:1308: UndefinedMetricWarning: Precision and F-score are ill-defined and being set to 0.0 in labels with no predicted samples. Use `zero_division` parameter to control this behavior.\n",
            "  _warn_prf(average, modifier, msg_start, len(result))\n",
            "/usr/local/lib/python3.7/dist-packages/sklearn/metrics/_classification.py:1308: UndefinedMetricWarning: Precision and F-score are ill-defined and being set to 0.0 in labels with no predicted samples. Use `zero_division` parameter to control this behavior.\n",
            "  _warn_prf(average, modifier, msg_start, len(result))\n",
            "/usr/local/lib/python3.7/dist-packages/sklearn/metrics/_classification.py:1308: UndefinedMetricWarning: Precision and F-score are ill-defined and being set to 0.0 in labels with no predicted samples. Use `zero_division` parameter to control this behavior.\n",
            "  _warn_prf(average, modifier, msg_start, len(result))\n",
            "/usr/local/lib/python3.7/dist-packages/sklearn/metrics/_classification.py:1308: UndefinedMetricWarning: Precision and F-score are ill-defined and being set to 0.0 in labels with no predicted samples. Use `zero_division` parameter to control this behavior.\n",
            "  _warn_prf(average, modifier, msg_start, len(result))\n",
            "/usr/local/lib/python3.7/dist-packages/sklearn/metrics/_classification.py:1308: UndefinedMetricWarning: Precision and F-score are ill-defined and being set to 0.0 in labels with no predicted samples. Use `zero_division` parameter to control this behavior.\n",
            "  _warn_prf(average, modifier, msg_start, len(result))\n",
            "/usr/local/lib/python3.7/dist-packages/sklearn/metrics/_classification.py:1308: UndefinedMetricWarning: Precision and F-score are ill-defined and being set to 0.0 in labels with no predicted samples. Use `zero_division` parameter to control this behavior.\n",
            "  _warn_prf(average, modifier, msg_start, len(result))\n",
            "/usr/local/lib/python3.7/dist-packages/sklearn/metrics/_classification.py:1308: UndefinedMetricWarning: Precision and F-score are ill-defined and being set to 0.0 in labels with no predicted samples. Use `zero_division` parameter to control this behavior.\n",
            "  _warn_prf(average, modifier, msg_start, len(result))\n",
            "/usr/local/lib/python3.7/dist-packages/sklearn/metrics/_classification.py:1308: UndefinedMetricWarning: Precision and F-score are ill-defined and being set to 0.0 in labels with no predicted samples. Use `zero_division` parameter to control this behavior.\n",
            "  _warn_prf(average, modifier, msg_start, len(result))\n",
            "/usr/local/lib/python3.7/dist-packages/sklearn/metrics/_classification.py:1308: UndefinedMetricWarning: Precision and F-score are ill-defined and being set to 0.0 in labels with no predicted samples. Use `zero_division` parameter to control this behavior.\n",
            "  _warn_prf(average, modifier, msg_start, len(result))\n",
            "/usr/local/lib/python3.7/dist-packages/sklearn/metrics/_classification.py:1308: UndefinedMetricWarning: Precision and F-score are ill-defined and being set to 0.0 in labels with no predicted samples. Use `zero_division` parameter to control this behavior.\n",
            "  _warn_prf(average, modifier, msg_start, len(result))\n",
            "/usr/local/lib/python3.7/dist-packages/sklearn/metrics/_classification.py:1308: UndefinedMetricWarning: Precision and F-score are ill-defined and being set to 0.0 in labels with no predicted samples. Use `zero_division` parameter to control this behavior.\n",
            "  _warn_prf(average, modifier, msg_start, len(result))\n",
            "/usr/local/lib/python3.7/dist-packages/sklearn/metrics/_classification.py:1308: UndefinedMetricWarning: Precision and F-score are ill-defined and being set to 0.0 in labels with no predicted samples. Use `zero_division` parameter to control this behavior.\n",
            "  _warn_prf(average, modifier, msg_start, len(result))\n",
            "/usr/local/lib/python3.7/dist-packages/sklearn/metrics/_classification.py:1308: UndefinedMetricWarning: Precision and F-score are ill-defined and being set to 0.0 in labels with no predicted samples. Use `zero_division` parameter to control this behavior.\n",
            "  _warn_prf(average, modifier, msg_start, len(result))\n",
            "/usr/local/lib/python3.7/dist-packages/sklearn/metrics/_classification.py:1308: UndefinedMetricWarning: Precision and F-score are ill-defined and being set to 0.0 in labels with no predicted samples. Use `zero_division` parameter to control this behavior.\n",
            "  _warn_prf(average, modifier, msg_start, len(result))\n",
            "/usr/local/lib/python3.7/dist-packages/sklearn/metrics/_classification.py:1308: UndefinedMetricWarning: Precision and F-score are ill-defined and being set to 0.0 in labels with no predicted samples. Use `zero_division` parameter to control this behavior.\n",
            "  _warn_prf(average, modifier, msg_start, len(result))\n",
            "/usr/local/lib/python3.7/dist-packages/sklearn/metrics/_classification.py:1308: UndefinedMetricWarning: Precision and F-score are ill-defined and being set to 0.0 in labels with no predicted samples. Use `zero_division` parameter to control this behavior.\n",
            "  _warn_prf(average, modifier, msg_start, len(result))\n",
            "/usr/local/lib/python3.7/dist-packages/sklearn/metrics/_classification.py:1308: UndefinedMetricWarning: Precision and F-score are ill-defined and being set to 0.0 in labels with no predicted samples. Use `zero_division` parameter to control this behavior.\n",
            "  _warn_prf(average, modifier, msg_start, len(result))\n",
            "/usr/local/lib/python3.7/dist-packages/sklearn/metrics/_classification.py:1308: UndefinedMetricWarning: Precision and F-score are ill-defined and being set to 0.0 in labels with no predicted samples. Use `zero_division` parameter to control this behavior.\n",
            "  _warn_prf(average, modifier, msg_start, len(result))\n",
            "/usr/local/lib/python3.7/dist-packages/sklearn/metrics/_classification.py:1308: UndefinedMetricWarning: Precision and F-score are ill-defined and being set to 0.0 in labels with no predicted samples. Use `zero_division` parameter to control this behavior.\n",
            "  _warn_prf(average, modifier, msg_start, len(result))\n",
            "/usr/local/lib/python3.7/dist-packages/sklearn/metrics/_classification.py:1308: UndefinedMetricWarning: Precision and F-score are ill-defined and being set to 0.0 in labels with no predicted samples. Use `zero_division` parameter to control this behavior.\n",
            "  _warn_prf(average, modifier, msg_start, len(result))\n",
            "/usr/local/lib/python3.7/dist-packages/sklearn/metrics/_classification.py:1308: UndefinedMetricWarning: Precision and F-score are ill-defined and being set to 0.0 in labels with no predicted samples. Use `zero_division` parameter to control this behavior.\n",
            "  _warn_prf(average, modifier, msg_start, len(result))\n",
            "/usr/local/lib/python3.7/dist-packages/sklearn/metrics/_classification.py:1308: UndefinedMetricWarning: Precision and F-score are ill-defined and being set to 0.0 in labels with no predicted samples. Use `zero_division` parameter to control this behavior.\n",
            "  _warn_prf(average, modifier, msg_start, len(result))\n",
            "/usr/local/lib/python3.7/dist-packages/sklearn/metrics/_classification.py:1308: UndefinedMetricWarning: Precision and F-score are ill-defined and being set to 0.0 in labels with no predicted samples. Use `zero_division` parameter to control this behavior.\n",
            "  _warn_prf(average, modifier, msg_start, len(result))\n",
            "/usr/local/lib/python3.7/dist-packages/sklearn/metrics/_classification.py:1308: UndefinedMetricWarning: Precision and F-score are ill-defined and being set to 0.0 in labels with no predicted samples. Use `zero_division` parameter to control this behavior.\n",
            "  _warn_prf(average, modifier, msg_start, len(result))\n",
            "/usr/local/lib/python3.7/dist-packages/sklearn/metrics/_classification.py:1308: UndefinedMetricWarning: Precision and F-score are ill-defined and being set to 0.0 in labels with no predicted samples. Use `zero_division` parameter to control this behavior.\n",
            "  _warn_prf(average, modifier, msg_start, len(result))\n",
            "/usr/local/lib/python3.7/dist-packages/sklearn/metrics/_classification.py:1308: UndefinedMetricWarning: Precision and F-score are ill-defined and being set to 0.0 in labels with no predicted samples. Use `zero_division` parameter to control this behavior.\n",
            "  _warn_prf(average, modifier, msg_start, len(result))\n",
            "/usr/local/lib/python3.7/dist-packages/sklearn/metrics/_classification.py:1308: UndefinedMetricWarning: Precision and F-score are ill-defined and being set to 0.0 in labels with no predicted samples. Use `zero_division` parameter to control this behavior.\n",
            "  _warn_prf(average, modifier, msg_start, len(result))\n",
            "/usr/local/lib/python3.7/dist-packages/sklearn/metrics/_classification.py:1308: UndefinedMetricWarning: Precision and F-score are ill-defined and being set to 0.0 in labels with no predicted samples. Use `zero_division` parameter to control this behavior.\n",
            "  _warn_prf(average, modifier, msg_start, len(result))\n",
            "/usr/local/lib/python3.7/dist-packages/sklearn/metrics/_classification.py:1308: UndefinedMetricWarning: Precision and F-score are ill-defined and being set to 0.0 in labels with no predicted samples. Use `zero_division` parameter to control this behavior.\n",
            "  _warn_prf(average, modifier, msg_start, len(result))\n",
            "/usr/local/lib/python3.7/dist-packages/sklearn/metrics/_classification.py:1308: UndefinedMetricWarning: Precision and F-score are ill-defined and being set to 0.0 in labels with no predicted samples. Use `zero_division` parameter to control this behavior.\n",
            "  _warn_prf(average, modifier, msg_start, len(result))\n",
            "/usr/local/lib/python3.7/dist-packages/sklearn/metrics/_classification.py:1308: UndefinedMetricWarning: Precision and F-score are ill-defined and being set to 0.0 in labels with no predicted samples. Use `zero_division` parameter to control this behavior.\n",
            "  _warn_prf(average, modifier, msg_start, len(result))\n",
            "/usr/local/lib/python3.7/dist-packages/sklearn/metrics/_classification.py:1308: UndefinedMetricWarning: Precision and F-score are ill-defined and being set to 0.0 in labels with no predicted samples. Use `zero_division` parameter to control this behavior.\n",
            "  _warn_prf(average, modifier, msg_start, len(result))\n",
            "/usr/local/lib/python3.7/dist-packages/sklearn/metrics/_classification.py:1308: UndefinedMetricWarning: Precision and F-score are ill-defined and being set to 0.0 in labels with no predicted samples. Use `zero_division` parameter to control this behavior.\n",
            "  _warn_prf(average, modifier, msg_start, len(result))\n",
            "/usr/local/lib/python3.7/dist-packages/sklearn/metrics/_classification.py:1308: UndefinedMetricWarning: Precision and F-score are ill-defined and being set to 0.0 in labels with no predicted samples. Use `zero_division` parameter to control this behavior.\n",
            "  _warn_prf(average, modifier, msg_start, len(result))\n",
            "/usr/local/lib/python3.7/dist-packages/sklearn/metrics/_classification.py:1308: UndefinedMetricWarning: Precision and F-score are ill-defined and being set to 0.0 in labels with no predicted samples. Use `zero_division` parameter to control this behavior.\n",
            "  _warn_prf(average, modifier, msg_start, len(result))\n",
            "/usr/local/lib/python3.7/dist-packages/sklearn/metrics/_classification.py:1308: UndefinedMetricWarning: Precision and F-score are ill-defined and being set to 0.0 in labels with no predicted samples. Use `zero_division` parameter to control this behavior.\n",
            "  _warn_prf(average, modifier, msg_start, len(result))\n",
            "/usr/local/lib/python3.7/dist-packages/sklearn/metrics/_classification.py:1308: UndefinedMetricWarning: Precision and F-score are ill-defined and being set to 0.0 in labels with no predicted samples. Use `zero_division` parameter to control this behavior.\n",
            "  _warn_prf(average, modifier, msg_start, len(result))\n"
          ]
        }
      ]
    },
    {
      "cell_type": "code",
      "metadata": {
        "id": "WjHWppC--BmU",
        "colab": {
          "base_uri": "https://localhost:8080/",
          "height": 414
        },
        "outputId": "b71bb9da-c776-4785-f633-f4798ccc18e6"
      },
      "source": [
        "bow_summary_table"
      ],
      "execution_count": 20,
      "outputs": [
        {
          "output_type": "execute_result",
          "data": {
            "text/html": [
              "<div>\n",
              "<style scoped>\n",
              "    .dataframe tbody tr th:only-of-type {\n",
              "        vertical-align: middle;\n",
              "    }\n",
              "\n",
              "    .dataframe tbody tr th {\n",
              "        vertical-align: top;\n",
              "    }\n",
              "\n",
              "    .dataframe thead th {\n",
              "        text-align: right;\n",
              "    }\n",
              "</style>\n",
              "<table border=\"1\" class=\"dataframe\">\n",
              "  <thead>\n",
              "    <tr style=\"text-align: right;\">\n",
              "      <th></th>\n",
              "      <th>model1</th>\n",
              "      <th>model2</th>\n",
              "      <th>model3</th>\n",
              "      <th>model4</th>\n",
              "      <th>model5</th>\n",
              "      <th>model6</th>\n",
              "      <th>model7</th>\n",
              "      <th>model8</th>\n",
              "      <th>model9</th>\n",
              "      <th>model10</th>\n",
              "      <th>model11</th>\n",
              "      <th>model12</th>\n",
              "      <th>model13</th>\n",
              "      <th>model14</th>\n",
              "      <th>model15</th>\n",
              "      <th>model16</th>\n",
              "      <th>model17</th>\n",
              "      <th>model18</th>\n",
              "      <th>model19</th>\n",
              "      <th>model20</th>\n",
              "      <th>model21</th>\n",
              "      <th>model22</th>\n",
              "      <th>model23</th>\n",
              "      <th>model24</th>\n",
              "    </tr>\n",
              "  </thead>\n",
              "  <tbody>\n",
              "    <tr>\n",
              "      <th>model</th>\n",
              "      <td>MultinomialNB</td>\n",
              "      <td>LogisticRegression</td>\n",
              "      <td>SGDClassifier</td>\n",
              "      <td>MultinomialNB</td>\n",
              "      <td>LogisticRegression</td>\n",
              "      <td>SGDClassifier</td>\n",
              "      <td>MultinomialNB</td>\n",
              "      <td>LogisticRegression</td>\n",
              "      <td>SGDClassifier</td>\n",
              "      <td>MultinomialNB</td>\n",
              "      <td>LogisticRegression</td>\n",
              "      <td>SGDClassifier</td>\n",
              "      <td>MultinomialNB</td>\n",
              "      <td>LogisticRegression</td>\n",
              "      <td>SGDClassifier</td>\n",
              "      <td>MultinomialNB</td>\n",
              "      <td>LogisticRegression</td>\n",
              "      <td>SGDClassifier</td>\n",
              "      <td>MultinomialNB</td>\n",
              "      <td>LogisticRegression</td>\n",
              "      <td>SGDClassifier</td>\n",
              "      <td>MultinomialNB</td>\n",
              "      <td>LogisticRegression</td>\n",
              "      <td>SGDClassifier</td>\n",
              "    </tr>\n",
              "    <tr>\n",
              "      <th>norm</th>\n",
              "      <td>l1</td>\n",
              "      <td>l1</td>\n",
              "      <td>l1</td>\n",
              "      <td>l2</td>\n",
              "      <td>l2</td>\n",
              "      <td>l2</td>\n",
              "      <td>l1</td>\n",
              "      <td>l1</td>\n",
              "      <td>l1</td>\n",
              "      <td>l2</td>\n",
              "      <td>l2</td>\n",
              "      <td>l2</td>\n",
              "      <td>l1</td>\n",
              "      <td>l1</td>\n",
              "      <td>l1</td>\n",
              "      <td>l2</td>\n",
              "      <td>l2</td>\n",
              "      <td>l2</td>\n",
              "      <td>l1</td>\n",
              "      <td>l1</td>\n",
              "      <td>l1</td>\n",
              "      <td>l2</td>\n",
              "      <td>l2</td>\n",
              "      <td>l2</td>\n",
              "    </tr>\n",
              "    <tr>\n",
              "      <th>analyzer</th>\n",
              "      <td>word</td>\n",
              "      <td>word</td>\n",
              "      <td>word</td>\n",
              "      <td>word</td>\n",
              "      <td>word</td>\n",
              "      <td>word</td>\n",
              "      <td>char</td>\n",
              "      <td>char</td>\n",
              "      <td>char</td>\n",
              "      <td>char</td>\n",
              "      <td>char</td>\n",
              "      <td>char</td>\n",
              "      <td>word</td>\n",
              "      <td>word</td>\n",
              "      <td>word</td>\n",
              "      <td>word</td>\n",
              "      <td>word</td>\n",
              "      <td>word</td>\n",
              "      <td>char</td>\n",
              "      <td>char</td>\n",
              "      <td>char</td>\n",
              "      <td>char</td>\n",
              "      <td>char</td>\n",
              "      <td>char</td>\n",
              "    </tr>\n",
              "    <tr>\n",
              "      <th>ngram1</th>\n",
              "      <td>1</td>\n",
              "      <td>1</td>\n",
              "      <td>1</td>\n",
              "      <td>1</td>\n",
              "      <td>1</td>\n",
              "      <td>1</td>\n",
              "      <td>1</td>\n",
              "      <td>1</td>\n",
              "      <td>1</td>\n",
              "      <td>1</td>\n",
              "      <td>1</td>\n",
              "      <td>1</td>\n",
              "      <td>1</td>\n",
              "      <td>1</td>\n",
              "      <td>1</td>\n",
              "      <td>1</td>\n",
              "      <td>1</td>\n",
              "      <td>1</td>\n",
              "      <td>1</td>\n",
              "      <td>1</td>\n",
              "      <td>1</td>\n",
              "      <td>1</td>\n",
              "      <td>1</td>\n",
              "      <td>1</td>\n",
              "    </tr>\n",
              "    <tr>\n",
              "      <th>ngram2</th>\n",
              "      <td>1</td>\n",
              "      <td>1</td>\n",
              "      <td>1</td>\n",
              "      <td>1</td>\n",
              "      <td>1</td>\n",
              "      <td>1</td>\n",
              "      <td>1</td>\n",
              "      <td>1</td>\n",
              "      <td>1</td>\n",
              "      <td>1</td>\n",
              "      <td>1</td>\n",
              "      <td>1</td>\n",
              "      <td>2</td>\n",
              "      <td>2</td>\n",
              "      <td>2</td>\n",
              "      <td>2</td>\n",
              "      <td>2</td>\n",
              "      <td>2</td>\n",
              "      <td>2</td>\n",
              "      <td>2</td>\n",
              "      <td>2</td>\n",
              "      <td>2</td>\n",
              "      <td>2</td>\n",
              "      <td>2</td>\n",
              "    </tr>\n",
              "    <tr>\n",
              "      <th>micro_precision</th>\n",
              "      <td>0.306428</td>\n",
              "      <td>0.306428</td>\n",
              "      <td>0.693572</td>\n",
              "      <td>0.672804</td>\n",
              "      <td>0.501836</td>\n",
              "      <td>0.664146</td>\n",
              "      <td>0.306428</td>\n",
              "      <td>0.306428</td>\n",
              "      <td>0.568031</td>\n",
              "      <td>0.306428</td>\n",
              "      <td>0.331744</td>\n",
              "      <td>0.70634</td>\n",
              "      <td>0.306428</td>\n",
              "      <td>0.306428</td>\n",
              "      <td>0.693572</td>\n",
              "      <td>0.655488</td>\n",
              "      <td>0.497726</td>\n",
              "      <td>0.638172</td>\n",
              "      <td>0.685133</td>\n",
              "      <td>0.306428</td>\n",
              "      <td>0.57236</td>\n",
              "      <td>0.693572</td>\n",
              "      <td>0.314867</td>\n",
              "      <td>0.693572</td>\n",
              "    </tr>\n",
              "    <tr>\n",
              "      <th>macro_precision</th>\n",
              "      <td>0.153214</td>\n",
              "      <td>0.153214</td>\n",
              "      <td>0.431839</td>\n",
              "      <td>0.558228</td>\n",
              "      <td>0.609399</td>\n",
              "      <td>0.573022</td>\n",
              "      <td>0.153214</td>\n",
              "      <td>0.153214</td>\n",
              "      <td>0.284016</td>\n",
              "      <td>0.153214</td>\n",
              "      <td>0.573041</td>\n",
              "      <td>0.851271</td>\n",
              "      <td>0.153214</td>\n",
              "      <td>0.153214</td>\n",
              "      <td>0.346786</td>\n",
              "      <td>0.495788</td>\n",
              "      <td>0.60716</td>\n",
              "      <td>0.498968</td>\n",
              "      <td>0.345488</td>\n",
              "      <td>0.153214</td>\n",
              "      <td>0.39498</td>\n",
              "      <td>0.346786</td>\n",
              "      <td>0.457544</td>\n",
              "      <td>0.438352</td>\n",
              "    </tr>\n",
              "    <tr>\n",
              "      <th>micro_recall</th>\n",
              "      <td>0.306428</td>\n",
              "      <td>0.306428</td>\n",
              "      <td>0.693572</td>\n",
              "      <td>0.672804</td>\n",
              "      <td>0.501836</td>\n",
              "      <td>0.664146</td>\n",
              "      <td>0.306428</td>\n",
              "      <td>0.306428</td>\n",
              "      <td>0.568031</td>\n",
              "      <td>0.306428</td>\n",
              "      <td>0.331744</td>\n",
              "      <td>0.70634</td>\n",
              "      <td>0.306428</td>\n",
              "      <td>0.306428</td>\n",
              "      <td>0.693572</td>\n",
              "      <td>0.655488</td>\n",
              "      <td>0.497726</td>\n",
              "      <td>0.638172</td>\n",
              "      <td>0.685133</td>\n",
              "      <td>0.306428</td>\n",
              "      <td>0.57236</td>\n",
              "      <td>0.693572</td>\n",
              "      <td>0.314867</td>\n",
              "      <td>0.693572</td>\n",
              "    </tr>\n",
              "    <tr>\n",
              "      <th>macro_recall</th>\n",
              "      <td>0.5</td>\n",
              "      <td>0.5</td>\n",
              "      <td>0.5076</td>\n",
              "      <td>0.542874</td>\n",
              "      <td>0.601853</td>\n",
              "      <td>0.567441</td>\n",
              "      <td>0.5</td>\n",
              "      <td>0.5</td>\n",
              "      <td>0.5</td>\n",
              "      <td>0.5</td>\n",
              "      <td>0.514382</td>\n",
              "      <td>0.520833</td>\n",
              "      <td>0.5</td>\n",
              "      <td>0.5</td>\n",
              "      <td>0.5</td>\n",
              "      <td>0.495869</td>\n",
              "      <td>0.598937</td>\n",
              "      <td>0.509889</td>\n",
              "      <td>0.493939</td>\n",
              "      <td>0.5</td>\n",
              "      <td>0.499345</td>\n",
              "      <td>0.5</td>\n",
              "      <td>0.494433</td>\n",
              "      <td>0.530398</td>\n",
              "    </tr>\n",
              "    <tr>\n",
              "      <th>micro_f1</th>\n",
              "      <td>0.306428</td>\n",
              "      <td>0.306428</td>\n",
              "      <td>0.693572</td>\n",
              "      <td>0.672804</td>\n",
              "      <td>0.501836</td>\n",
              "      <td>0.664146</td>\n",
              "      <td>0.306428</td>\n",
              "      <td>0.306428</td>\n",
              "      <td>0.568031</td>\n",
              "      <td>0.306428</td>\n",
              "      <td>0.331744</td>\n",
              "      <td>0.70634</td>\n",
              "      <td>0.306428</td>\n",
              "      <td>0.306428</td>\n",
              "      <td>0.693572</td>\n",
              "      <td>0.655488</td>\n",
              "      <td>0.497726</td>\n",
              "      <td>0.638172</td>\n",
              "      <td>0.685133</td>\n",
              "      <td>0.306428</td>\n",
              "      <td>0.57236</td>\n",
              "      <td>0.693572</td>\n",
              "      <td>0.314867</td>\n",
              "      <td>0.693572</td>\n",
              "    </tr>\n",
              "    <tr>\n",
              "      <th>macro_f1</th>\n",
              "      <td>0.234548</td>\n",
              "      <td>0.234548</td>\n",
              "      <td>0.432362</td>\n",
              "      <td>0.530043</td>\n",
              "      <td>0.499848</td>\n",
              "      <td>0.561869</td>\n",
              "      <td>0.234548</td>\n",
              "      <td>0.234548</td>\n",
              "      <td>0.35284</td>\n",
              "      <td>0.234548</td>\n",
              "      <td>0.277984</td>\n",
              "      <td>0.45264</td>\n",
              "      <td>0.234548</td>\n",
              "      <td>0.234548</td>\n",
              "      <td>0.409529</td>\n",
              "      <td>0.457248</td>\n",
              "      <td>0.496283</td>\n",
              "      <td>0.486251</td>\n",
              "      <td>0.406574</td>\n",
              "      <td>0.234548</td>\n",
              "      <td>0.363768</td>\n",
              "      <td>0.409529</td>\n",
              "      <td>0.259824</td>\n",
              "      <td>0.471877</td>\n",
              "    </tr>\n",
              "  </tbody>\n",
              "</table>\n",
              "</div>"
            ],
            "text/plain": [
              "                        model1  ...        model24\n",
              "model            MultinomialNB  ...  SGDClassifier\n",
              "norm                        l1  ...             l2\n",
              "analyzer                  word  ...           char\n",
              "ngram1                       1  ...              1\n",
              "ngram2                       1  ...              2\n",
              "micro_precision       0.306428  ...       0.693572\n",
              "macro_precision       0.153214  ...       0.438352\n",
              "micro_recall          0.306428  ...       0.693572\n",
              "macro_recall               0.5  ...       0.530398\n",
              "micro_f1              0.306428  ...       0.693572\n",
              "macro_f1              0.234548  ...       0.471877\n",
              "\n",
              "[11 rows x 24 columns]"
            ]
          },
          "metadata": {},
          "execution_count": 20
        }
      ]
    },
    {
      "cell_type": "markdown",
      "metadata": {
        "id": "aSZmwr2I6P5P"
      },
      "source": [
        "2. word embedding"
      ]
    },
    {
      "cell_type": "code",
      "metadata": {
        "id": "eQBcECLC9c-u"
      },
      "source": [
        "# all below are test codes"
      ],
      "execution_count": null,
      "outputs": []
    },
    {
      "cell_type": "code",
      "metadata": {
        "id": "nv3fNy7Y7meH"
      },
      "source": [
        "def w2v_model(data, min_count, size, negative, iter, window, sg):\n",
        "  df_tokenize = []\n",
        "  for text in data:\n",
        "    tokenized = word_tokenize(text)\n",
        "    df_tokenize.append(tokenized)\n",
        "  \n",
        "  model = gensim.models.Word2Vec(sentences = df_tokenize, min_count = min_count, size = size, negative = negative, iter = iter, window = window, sg = sg)\n",
        "  model.wv.save_word2vec_format('trial.txt', binary=False)\n",
        "  return model\n",
        "\n",
        "# word2vec trial1\n",
        "w2v1 = w2v_model(df['cleaned_text'], 1, 100, 5, 5, 5, 0)\n",
        "\n",
        "kk = w2v1.wv.vocab.keys()\n",
        "kk = set(kk)"
      ],
      "execution_count": 22,
      "outputs": []
    },
    {
      "cell_type": "code",
      "metadata": {
        "id": "YWGl5W3rVJHY"
      },
      "source": [
        "def get_weight_matrix(embedding, vocab):\n",
        "\t# total vocabulary size plus 0 for unknown words\n",
        "\tvocab_size = len(vocab) + 1\n",
        "\t# define weight matrix dimensions with all 0\n",
        "\tweight_matrix = zeros((vocab_size, 100))\n",
        "\t# step vocab, store vectors using the Tokenizer's integer mapping\n",
        "\tfor word, i in vocab.items():\n",
        "\t\tweight_matrix[i] = embedding.get(word)\n",
        "\treturn weight_matrix"
      ],
      "execution_count": 23,
      "outputs": []
    },
    {
      "cell_type": "code",
      "metadata": {
        "id": "kVwmFlQEtC3s"
      },
      "source": [
        "# load embedding as a dict\n",
        "def load_embedding(filename):\n",
        "\t# load embedding into memory, skip first line\n",
        "\tfile = open(filename,'r')\n",
        "\tlines = file.readlines()[1:]\n",
        "\tfile.close()\n",
        "\t# create a map of words to vectors\n",
        "\tembedding = dict()\n",
        "\tfor line in lines:\n",
        "\t\tparts = line.split()\n",
        "\t\t# key is string word, value is numpy array for vector\n",
        "\t\tembedding[parts[0]] = asarray(parts[1:], dtype='float32')\n",
        "\treturn embedding"
      ],
      "execution_count": 30,
      "outputs": []
    },
    {
      "cell_type": "code",
      "metadata": {
        "id": "tjE0y0qzWSJP"
      },
      "source": [
        "#######debug"
      ],
      "execution_count": null,
      "outputs": []
    },
    {
      "cell_type": "code",
      "metadata": {
        "id": "mf_2oJa-WTqO"
      },
      "source": [
        "#######debug"
      ],
      "execution_count": null,
      "outputs": []
    },
    {
      "cell_type": "code",
      "metadata": {
        "id": "eB8tfiWU9F4n"
      },
      "source": [
        "train_docs = X_train_bi.tolist()"
      ],
      "execution_count": 24,
      "outputs": []
    },
    {
      "cell_type": "code",
      "metadata": {
        "id": "nhrwVB5l90wy"
      },
      "source": [
        "# create the tokenizer\n",
        "tokenizer = Tokenizer()\n",
        "# fit the tokenizer on the documents\n",
        "tokenizer.fit_on_texts(train_docs)\n",
        " \n",
        "# sequence encode\n",
        "encoded_docs = tokenizer.texts_to_sequences(train_docs)\n",
        "# pad sequences\n",
        "max_length = max([len(s.split()) for s in train_docs])"
      ],
      "execution_count": 25,
      "outputs": []
    },
    {
      "cell_type": "code",
      "metadata": {
        "id": "IVRPi7It-G4V"
      },
      "source": [
        "Xtrain_array = pad_sequences(encoded_docs, maxlen=max_length, padding='post')\n",
        "# define training labels\n",
        "ytrain_array = np.array(y_train_bi.to_list())"
      ],
      "execution_count": 26,
      "outputs": []
    },
    {
      "cell_type": "code",
      "metadata": {
        "id": "Qms4szVD-G_y"
      },
      "source": [
        "test_docs = X_test_bi.to_list()\n",
        "encoded_docs2 = tokenizer.texts_to_sequences(test_docs)\n",
        "Xtest_array = pad_sequences(encoded_docs2, maxlen=max_length, padding='post')\n",
        "Ytest_array = np.array(y_test_bi.to_list())"
      ],
      "execution_count": 27,
      "outputs": []
    },
    {
      "cell_type": "code",
      "metadata": {
        "colab": {
          "base_uri": "https://localhost:8080/"
        },
        "id": "HBOqh8Os-HGP",
        "outputId": "565e3de5-2630-4038-82ff-57777e4e7107"
      },
      "source": [
        "# define vocabulary size (largest integer value)\n",
        "vocab_size = len(tokenizer.word_index) + 1\n",
        "vocab_size"
      ],
      "execution_count": 28,
      "outputs": [
        {
          "output_type": "execute_result",
          "data": {
            "text/plain": [
              "2933"
            ]
          },
          "metadata": {},
          "execution_count": 28
        }
      ]
    },
    {
      "cell_type": "code",
      "metadata": {
        "id": "NfEcgoGc-HM_"
      },
      "source": [
        "raw_embedding = load_embedding('trial.txt')"
      ],
      "execution_count": 31,
      "outputs": []
    },
    {
      "cell_type": "code",
      "metadata": {
        "id": "5oBwt7JFAYqj"
      },
      "source": [
        "\n",
        "# get vectors in the right order\n",
        "embedding_vectors = get_weight_matrix(raw_embedding, tokenizer.word_index)\n",
        "# create the embedding layer\n",
        "embedding_layer = Embedding(vocab_size, 100, weights=[embedding_vectors], input_length=max_length, trainable=False)"
      ],
      "execution_count": 32,
      "outputs": []
    },
    {
      "cell_type": "code",
      "metadata": {
        "colab": {
          "base_uri": "https://localhost:8080/"
        },
        "id": "Ha1TTo24AYtu",
        "outputId": "8ec2a049-9852-4766-cf13-3f908688b867"
      },
      "source": [
        "opt = keras.optimizers.Adam(learning_rate=0.0001)\n",
        "\n",
        "# define model\n",
        "model = Sequential()\n",
        "model.add(embedding_layer)\n",
        "model.add(Conv1D(filters=32, kernel_size=5, activation='relu'))\n",
        "model.add(MaxPooling1D(pool_size=2))\n",
        "model.add(Flatten())\n",
        "model.add(Dense(1, activation='sigmoid'))\n",
        "print(model.summary())\n",
        "# compile network\n",
        "model.compile(loss=keras.losses.BinaryCrossentropy(from_logits=True), optimizer= opt, metrics=['accuracy'])\n",
        "# fit network\n",
        "model.fit(Xtrain_array, ytrain_array, epochs=20, batch_size=64, verbose=2)\n",
        "# evaluate\n",
        "loss, acc = model.evaluate(Xtest_array, Ytest_array, verbose=0)\n",
        "preds = model.predict(Xtest_array)\n",
        "print('Test Accuracy: %f' % (acc*100))"
      ],
      "execution_count": 33,
      "outputs": [
        {
          "output_type": "stream",
          "name": "stdout",
          "text": [
            "Model: \"sequential\"\n",
            "_________________________________________________________________\n",
            " Layer (type)                Output Shape              Param #   \n",
            "=================================================================\n",
            " embedding (Embedding)       (None, 386, 100)          293300    \n",
            "                                                                 \n",
            " conv1d (Conv1D)             (None, 382, 32)           16032     \n",
            "                                                                 \n",
            " max_pooling1d (MaxPooling1D  (None, 191, 32)          0         \n",
            " )                                                               \n",
            "                                                                 \n",
            " flatten (Flatten)           (None, 6112)              0         \n",
            "                                                                 \n",
            " dense (Dense)               (None, 1)                 6113      \n",
            "                                                                 \n",
            "=================================================================\n",
            "Total params: 315,445\n",
            "Trainable params: 22,145\n",
            "Non-trainable params: 293,300\n",
            "_________________________________________________________________\n",
            "None\n",
            "Epoch 1/20\n"
          ]
        },
        {
          "output_type": "stream",
          "name": "stderr",
          "text": [
            "/usr/local/lib/python3.7/dist-packages/tensorflow/python/util/dispatch.py:1096: UserWarning: \"`binary_crossentropy` received `from_logits=True`, but the `output` argument was produced by a sigmoid or softmax activation and thus does not represent logits. Was this intended?\"\n",
            "  return dispatch_target(*args, **kwargs)\n"
          ]
        },
        {
          "output_type": "stream",
          "name": "stdout",
          "text": [
            "3/3 - 1s - loss: 0.6821 - accuracy: 0.5370 - 1s/epoch - 418ms/step\n",
            "Epoch 2/20\n",
            "3/3 - 0s - loss: 0.6688 - accuracy: 0.6296 - 187ms/epoch - 62ms/step\n",
            "Epoch 3/20\n",
            "3/3 - 0s - loss: 0.6575 - accuracy: 0.6481 - 191ms/epoch - 64ms/step\n",
            "Epoch 4/20\n",
            "3/3 - 0s - loss: 0.6487 - accuracy: 0.6605 - 184ms/epoch - 61ms/step\n",
            "Epoch 5/20\n",
            "3/3 - 0s - loss: 0.6390 - accuracy: 0.6605 - 192ms/epoch - 64ms/step\n",
            "Epoch 6/20\n",
            "3/3 - 0s - loss: 0.6327 - accuracy: 0.6605 - 192ms/epoch - 64ms/step\n",
            "Epoch 7/20\n",
            "3/3 - 0s - loss: 0.6282 - accuracy: 0.6605 - 183ms/epoch - 61ms/step\n",
            "Epoch 8/20\n",
            "3/3 - 0s - loss: 0.6227 - accuracy: 0.6605 - 183ms/epoch - 61ms/step\n",
            "Epoch 9/20\n",
            "3/3 - 0s - loss: 0.6185 - accuracy: 0.6605 - 184ms/epoch - 61ms/step\n",
            "Epoch 10/20\n",
            "3/3 - 0s - loss: 0.6154 - accuracy: 0.6605 - 190ms/epoch - 63ms/step\n",
            "Epoch 11/20\n",
            "3/3 - 0s - loss: 0.6120 - accuracy: 0.6605 - 192ms/epoch - 64ms/step\n",
            "Epoch 12/20\n",
            "3/3 - 0s - loss: 0.6086 - accuracy: 0.6605 - 185ms/epoch - 62ms/step\n",
            "Epoch 13/20\n",
            "3/3 - 0s - loss: 0.6057 - accuracy: 0.6605 - 186ms/epoch - 62ms/step\n",
            "Epoch 14/20\n",
            "3/3 - 0s - loss: 0.6025 - accuracy: 0.6605 - 189ms/epoch - 63ms/step\n",
            "Epoch 15/20\n",
            "3/3 - 0s - loss: 0.5991 - accuracy: 0.6605 - 193ms/epoch - 64ms/step\n",
            "Epoch 16/20\n",
            "3/3 - 0s - loss: 0.5963 - accuracy: 0.6667 - 193ms/epoch - 64ms/step\n",
            "Epoch 17/20\n",
            "3/3 - 0s - loss: 0.5929 - accuracy: 0.6728 - 188ms/epoch - 63ms/step\n",
            "Epoch 18/20\n",
            "3/3 - 0s - loss: 0.5901 - accuracy: 0.6790 - 182ms/epoch - 61ms/step\n",
            "Epoch 19/20\n",
            "3/3 - 0s - loss: 0.5870 - accuracy: 0.6790 - 184ms/epoch - 61ms/step\n",
            "Epoch 20/20\n",
            "3/3 - 0s - loss: 0.5836 - accuracy: 0.6790 - 191ms/epoch - 64ms/step\n",
            "Test Accuracy: 62.857145\n"
          ]
        }
      ]
    }
  ]
}